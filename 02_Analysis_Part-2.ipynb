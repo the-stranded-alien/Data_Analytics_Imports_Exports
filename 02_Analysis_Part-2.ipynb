{
 "cells": [
  {
   "cell_type": "code",
   "execution_count": 1,
   "metadata": {},
   "outputs": [
    {
     "data": {
      "text/html": [
       "        <script type=\"text/javascript\">\n",
       "        window.PlotlyConfig = {MathJaxConfig: 'local'};\n",
       "        if (window.MathJax) {MathJax.Hub.Config({SVG: {font: \"STIX-Web\"}});}\n",
       "        if (typeof require !== 'undefined') {\n",
       "        require.undef(\"plotly\");\n",
       "        requirejs.config({\n",
       "            paths: {\n",
       "                'plotly': ['https://cdn.plot.ly/plotly-latest.min']\n",
       "            }\n",
       "        });\n",
       "        require(['plotly'], function(Plotly) {\n",
       "            window._Plotly = Plotly;\n",
       "        });\n",
       "        }\n",
       "        </script>\n",
       "        "
      ]
     },
     "metadata": {},
     "output_type": "display_data"
    }
   ],
   "source": [
    "import numpy as np\n",
    "import pandas as pd \n",
    "import seaborn as sns \n",
    "import matplotlib.pyplot as plt\n",
    "import plotly.graph_objs as go\n",
    "from plotly.offline import download_plotlyjs, init_notebook_mode, plot, iplot\n",
    "import plotly.express as px\n",
    "init_notebook_mode(connected=True)\n",
    "%matplotlib inline\n",
    "from IPython.display import display"
   ]
  },
  {
   "cell_type": "code",
   "execution_count": 2,
   "metadata": {},
   "outputs": [
    {
     "name": "stdout",
     "output_type": "stream",
     "text": [
      "(15886, 5) (8647, 5)\n"
     ]
    }
   ],
   "source": [
    "data_export = pd.read_csv(\"Dataset/india-trade-data/2018-2010_export.csv\")\n",
    "data_import = pd.read_csv(\"Dataset/india-trade-data/2018-2010_import.csv\")\n",
    "data_export = data_export[data_export.year==2018]\n",
    "data_import = data_import[data_import.year==2018]\n",
    "print(data_export.shape, data_import.shape)"
   ]
  },
  {
   "cell_type": "code",
   "execution_count": 3,
   "metadata": {},
   "outputs": [
    {
     "name": "stdout",
     "output_type": "stream",
     "text": [
      "6\n"
     ]
    }
   ],
   "source": [
    "exported = data_export.groupby('Commodity').agg({'value':'sum','country':'nunique'})\n",
    "imported = data_import.groupby('Commodity').agg({'value':'sum','country':'nunique'})\n",
    "top_exports = exported.sort_values('value', ascending=False)[:10]\n",
    "top_imports = imported.sort_values('value', ascending=False)[:10]\n",
    "\n",
    "#Number of items that were common in lists of top 10 import and export\n",
    "print(len(set(top_exports.index).intersection(set(top_imports.index))))"
   ]
  },
  {
   "cell_type": "markdown",
   "metadata": {},
   "source": [
    "<div class=\"alert alert-success\">\n",
    "\n",
    "<b>Commodities Common In Both Top Imports & Top Exports</b>:\n",
    "\n",
    "<ul>\n",
    "  <li> Commodities occuring in total in both of top_exports, top_imports.</li>\n",
    "    <li> Plotting the deficit/surpluses of these commodities</li>\n",
    "</ul>\n",
    " \n",
    "</div>"
   ]
  },
  {
   "cell_type": "code",
   "execution_count": 4,
   "metadata": {},
   "outputs": [
    {
     "name": "stdout",
     "output_type": "stream",
     "text": [
      "Commodities in Total in Both of top_exports, top_imports :  6\n"
     ]
    },
    {
     "data": {
      "text/html": [
       "<div>\n",
       "<style scoped>\n",
       "    .dataframe tbody tr th:only-of-type {\n",
       "        vertical-align: middle;\n",
       "    }\n",
       "\n",
       "    .dataframe tbody tr th {\n",
       "        vertical-align: top;\n",
       "    }\n",
       "\n",
       "    .dataframe thead th {\n",
       "        text-align: right;\n",
       "    }\n",
       "</style>\n",
       "<table border=\"1\" class=\"dataframe\">\n",
       "  <thead>\n",
       "    <tr style=\"text-align: right;\">\n",
       "      <th></th>\n",
       "      <th>Commodity</th>\n",
       "      <th>value_exp</th>\n",
       "      <th>country_exp</th>\n",
       "      <th>value_imp</th>\n",
       "      <th>country_imp</th>\n",
       "      <th>surplus</th>\n",
       "    </tr>\n",
       "  </thead>\n",
       "  <tbody>\n",
       "    <tr>\n",
       "      <th>0</th>\n",
       "      <td>MINERAL FUELS, MINERAL OILS AND PRODUCTS OF TH...</td>\n",
       "      <td>47920.23</td>\n",
       "      <td>178</td>\n",
       "      <td>167871.78</td>\n",
       "      <td>134</td>\n",
       "      <td>-119951.55</td>\n",
       "    </tr>\n",
       "    <tr>\n",
       "      <th>1</th>\n",
       "      <td>NATURAL OR CULTURED PEARLS,PRECIOUS OR SEMIPRE...</td>\n",
       "      <td>40449.05</td>\n",
       "      <td>201</td>\n",
       "      <td>64720.19</td>\n",
       "      <td>132</td>\n",
       "      <td>-24271.14</td>\n",
       "    </tr>\n",
       "    <tr>\n",
       "      <th>2</th>\n",
       "      <td>NUCLEAR REACTORS, BOILERS, MACHINERY AND MECHA...</td>\n",
       "      <td>20963.32</td>\n",
       "      <td>224</td>\n",
       "      <td>43839.43</td>\n",
       "      <td>194</td>\n",
       "      <td>-22876.11</td>\n",
       "    </tr>\n",
       "    <tr>\n",
       "      <th>3</th>\n",
       "      <td>ORGANIC CHEMICALS</td>\n",
       "      <td>18238.53</td>\n",
       "      <td>197</td>\n",
       "      <td>22389.41</td>\n",
       "      <td>128</td>\n",
       "      <td>-4150.88</td>\n",
       "    </tr>\n",
       "    <tr>\n",
       "      <th>4</th>\n",
       "      <td>ELECTRICAL MACHINERY AND EQUIPMENT AND PARTS T...</td>\n",
       "      <td>12726.63</td>\n",
       "      <td>224</td>\n",
       "      <td>52048.26</td>\n",
       "      <td>197</td>\n",
       "      <td>-39321.63</td>\n",
       "    </tr>\n",
       "    <tr>\n",
       "      <th>5</th>\n",
       "      <td>IRON AND STEEL</td>\n",
       "      <td>9741.67</td>\n",
       "      <td>185</td>\n",
       "      <td>12582.09</td>\n",
       "      <td>166</td>\n",
       "      <td>-2840.42</td>\n",
       "    </tr>\n",
       "  </tbody>\n",
       "</table>\n",
       "</div>"
      ],
      "text/plain": [
       "                                           Commodity  value_exp  country_exp  \\\n",
       "0  MINERAL FUELS, MINERAL OILS AND PRODUCTS OF TH...   47920.23          178   \n",
       "1  NATURAL OR CULTURED PEARLS,PRECIOUS OR SEMIPRE...   40449.05          201   \n",
       "2  NUCLEAR REACTORS, BOILERS, MACHINERY AND MECHA...   20963.32          224   \n",
       "3                                  ORGANIC CHEMICALS   18238.53          197   \n",
       "4  ELECTRICAL MACHINERY AND EQUIPMENT AND PARTS T...   12726.63          224   \n",
       "5                                     IRON AND STEEL    9741.67          185   \n",
       "\n",
       "   value_imp  country_imp    surplus  \n",
       "0  167871.78          134 -119951.55  \n",
       "1   64720.19          132  -24271.14  \n",
       "2   43839.43          194  -22876.11  \n",
       "3   22389.41          128   -4150.88  \n",
       "4   52048.26          197  -39321.63  \n",
       "5   12582.09          166   -2840.42  "
      ]
     },
     "metadata": {},
     "output_type": "display_data"
    },
    {
     "name": "stdout",
     "output_type": "stream",
     "text": [
      "AxesSubplot(0.125,0.125;0.775x0.755)\n"
     ]
    },
    {
     "data": {
      "image/png": "[encoded data removed]",
      "text/plain": [
       "<Figure size 432x288 with 1 Axes>"
      ]
     },
     "metadata": {
      "needs_background": "light"
     },
     "output_type": "display_data"
    }
   ],
   "source": [
    "commons = pd.merge(top_exports.reset_index(), \n",
    "         top_imports.reset_index(), \n",
    "         how='inner', on=['Commodity'],\n",
    "         suffixes=('_exp', '_imp'))\n",
    "\n",
    "commons['surplus'] = commons['value_exp'] - commons['value_imp']\n",
    "print(\"Commodities in Total in Both of top_exports, top_imports : \", len(commons))\n",
    "display(commons.head(n=6))\n",
    "print(commons['surplus'].plot.bar())"
   ]
  },
  {
   "cell_type": "markdown",
   "metadata": {},
   "source": [
    "<div class=\"alert alert-success\">\n",
    "\n",
    "<b>A Better Way To Define Top Imports & Top Exports</b>:\n",
    "    \n",
    "</div>"
   ]
  },
  {
   "cell_type": "code",
   "execution_count": 5,
   "metadata": {},
   "outputs": [
    {
     "name": "stdout",
     "output_type": "stream",
     "text": [
      "Top Exports\n",
      "\n",
      "\n",
      "                                                     Value/Countries\n",
      "Commodity                                                          \n",
      "MINERAL FUELS, MINERAL OILS AND PRODUCTS OF THE...       269.214775\n",
      "NATURAL OR CULTURED PEARLS,PRECIOUS OR SEMIPREC...       201.239055\n",
      "NUCLEAR REACTORS, BOILERS, MACHINERY AND MECHAN...        93.586250\n",
      "ORGANIC CHEMICALS                                         92.581371\n",
      "VEHICLES OTHER THAN RAILWAY OR TRAMWAY ROLLING ...        85.763033\n",
      "SHIPS, BOATS AND FLOATING STRUCTURES.                     78.076986\n",
      "PHARMACEUTICAL PRODUCTS                                   68.620419\n",
      "ELECTRICAL MACHINERY AND EQUIPMENT AND PARTS TH...        56.815313\n",
      "IRON AND STEEL                                            52.657676\n",
      "CEREALS.                                                  46.364091\n",
      "\n",
      "\n",
      "Top Imports\n",
      "\n",
      "\n",
      "                                                     Value/Countries\n",
      "Commodity                                                          \n",
      "MINERAL FUELS, MINERAL OILS AND PRODUCTS OF THE...      1252.774478\n",
      "NATURAL OR CULTURED PEARLS,PRECIOUS OR SEMIPREC...       490.304470\n",
      "ELECTRICAL MACHINERY AND EQUIPMENT AND PARTS TH...       264.204365\n",
      "NUCLEAR REACTORS, BOILERS, MACHINERY AND MECHAN...       225.976443\n",
      "ORGANIC CHEMICALS                                        174.917266\n",
      "ANIMAL OR VEGETABLE FATS AND OILS AND THEIR CLE...       135.060000\n",
      "AIRCRAFT, SPACECRAFT, AND PARTS THEREOF.                 104.320685\n",
      "FERTILISERS.                                             100.938030\n",
      "PLASTIC AND ARTICLES THEREOF.                             88.130347\n",
      "SHIPS, BOATS AND FLOATING STRUCTURES.                     87.992879\n"
     ]
    }
   ],
   "source": [
    "# A better way to define top imported and exported items can be to find the total value imported or exported and \n",
    "# divide that value by the number of countries that were involved in that product's import or export.\n",
    "# This gives a better idea than just adding the values as all products are not imported or exported by all countries.\n",
    "# So using a average of the value based on number of countries it's imported or exported from seems a better approach.\n",
    "\n",
    "print(\"Top Exports\")\n",
    "top_exp = data_export.groupby([\"Commodity\"]).agg({'value':'sum','country':'nunique'})\n",
    "top_exp[\"Value/Countries\"] = top_exp['value']/top_exp['country']\n",
    "top_exp = top_exp.sort_values('Value/Countries', ascending=False)[:10]\n",
    "print(\"\\n\\n\", top_exp[[\"Value/Countries\"]])\n",
    "\n",
    "print(\"\\n\\nTop Imports\")\n",
    "top_imp = data_import.groupby([\"Commodity\"]).agg({'value':'sum','country':'nunique'})\n",
    "top_imp[\"Value/Countries\"] = top_imp['value']/top_imp['country']\n",
    "top_imp = top_imp.sort_values('Value/Countries', ascending=False)[:10]\n",
    "print(\"\\n\\n\", top_imp[[\"Value/Countries\"]])"
   ]
  },
  {
   "cell_type": "markdown",
   "metadata": {},
   "source": [
    "<div class=\"alert alert-success\">\n",
    "\n",
    "<b>Plotting Top Imports & Exports</b>:\n",
    "\n",
    "<ul>\n",
    "  <li>Plotting the deficits/surpluses for top exported/imported commodities.</li>\n",
    "</ul>\n",
    " \n",
    "    \n",
    "</div>"
   ]
  },
  {
   "cell_type": "code",
   "execution_count": 6,
   "metadata": {},
   "outputs": [
    {
     "name": "stdout",
     "output_type": "stream",
     "text": [
      "Commodities in Total in Both of top_exports, top_imports :  6\n"
     ]
    },
    {
     "data": {
      "application/vnd.plotly.v1+json": {
       "config": {
        "plotlyServerURL": "https://plot.ly"
       },
       "data": [
        {
         "alignmentgroup": "True",
         "customdata": [
          [
           47920.23000000002,
           167871.77999999994
          ],
          [
           40449.049999999996,
           64720.19
          ],
          [
           20963.320000000003,
           43839.43
          ],
          [
           18238.53,
           22389.409999999993
          ],
          [
           5699.620000000001,
           5807.530000000002
          ],
          [
           12726.630000000001,
           52048.259999999995
          ]
         ],
         "hovertemplate": "surplus=%{y}<br>value_exp=%{customdata[0]}<br>value_imp=%{customdata[1]}<extra></extra>",
         "legendgroup": "",
         "marker": {
          "color": "#636efa"
         },
         "name": "",
         "offsetgroup": "",
         "orientation": "v",
         "showlegend": false,
         "textposition": "auto",
         "type": "bar",
         "xaxis": "x",
         "y": [
          -119951.54999999993,
          -24271.140000000007,
          -22876.109999999997,
          -4150.879999999994,
          -107.91000000000076,
          -39321.62999999999
         ],
         "yaxis": "y"
        }
       ],
       "layout": {
        "barmode": "relative",
        "legend": {
         "tracegroupgap": 0
        },
        "margin": {
         "t": 60
        },
        "template": {
         "data": {
          "bar": [
           {
            "error_x": {
             "color": "#2a3f5f"
            },
            "error_y": {
             "color": "#2a3f5f"
            },
            "marker": {
             "line": {
              "color": "#E5ECF6",
              "width": 0.5
             }
            },
            "type": "bar"
           }
          ],
          "barpolar": [
           {
            "marker": {
             "line": {
              "color": "#E5ECF6",
              "width": 0.5
             }
            },
            "type": "barpolar"
           }
          ],
          "carpet": [
           {
            "aaxis": {
             "endlinecolor": "#2a3f5f",
             "gridcolor": "white",
             "linecolor": "white",
             "minorgridcolor": "white",
             "startlinecolor": "#2a3f5f"
            },
            "baxis": {
             "endlinecolor": "#2a3f5f",
             "gridcolor": "white",
             "linecolor": "white",
             "minorgridcolor": "white",
             "startlinecolor": "#2a3f5f"
            },
            "type": "carpet"
           }
          ],
          "choropleth": [
           {
            "colorbar": {
             "outlinewidth": 0,
             "ticks": ""
            },
            "type": "choropleth"
           }
          ],
          "contour": [
           {
            "colorbar": {
             "outlinewidth": 0,
             "ticks": ""
            },
            "colorscale": [
             [
              0,
              "#0d0887"
             ],
             [
              0.1111111111111111,
              "#46039f"
             ],
             [
              0.2222222222222222,
              "#7201a8"
             ],
             [
              0.3333333333333333,
              "#9c179e"
             ],
             [
              0.4444444444444444,
              "#bd3786"
             ],
             [
              0.5555555555555556,
              "#d8576b"
             ],
             [
              0.6666666666666666,
              "#ed7953"
             ],
             [
              0.7777777777777778,
              "#fb9f3a"
             ],
             [
              0.8888888888888888,
              "#fdca26"
             ],
             [
              1,
              "#f0f921"
             ]
            ],
            "type": "contour"
           }
          ],
          "contourcarpet": [
           {
            "colorbar": {
             "outlinewidth": 0,
             "ticks": ""
            },
            "type": "contourcarpet"
           }
          ],
          "heatmap": [
           {
            "colorbar": {
             "outlinewidth": 0,
             "ticks": ""
            },
            "colorscale": [
             [
              0,
              "#0d0887"
             ],
             [
              0.1111111111111111,
              "#46039f"
             ],
             [
              0.2222222222222222,
              "#7201a8"
             ],
             [
              0.3333333333333333,
              "#9c179e"
             ],
             [
              0.4444444444444444,
              "#bd3786"
             ],
             [
              0.5555555555555556,
              "#d8576b"
             ],
             [
              0.6666666666666666,
              "#ed7953"
             ],
             [
              0.7777777777777778,
              "#fb9f3a"
             ],
             [
              0.8888888888888888,
              "#fdca26"
             ],
             [
              1,
              "#f0f921"
             ]
            ],
            "type": "heatmap"
           }
          ],
          "heatmapgl": [
           {
            "colorbar": {
             "outlinewidth": 0,
             "ticks": ""
            },
            "colorscale": [
             [
              0,
              "#0d0887"
             ],
             [
              0.1111111111111111,
              "#46039f"
             ],
             [
              0.2222222222222222,
              "#7201a8"
             ],
             [
              0.3333333333333333,
              "#9c179e"
             ],
             [
              0.4444444444444444,
              "#bd3786"
             ],
             [
              0.5555555555555556,
              "#d8576b"
             ],
             [
              0.6666666666666666,
              "#ed7953"
             ],
             [
              0.7777777777777778,
              "#fb9f3a"
             ],
             [
              0.8888888888888888,
              "#fdca26"
             ],
             [
              1,
              "#f0f921"
             ]
            ],
            "type": "heatmapgl"
           }
          ],
          "histogram": [
           {
            "marker": {
             "colorbar": {
              "outlinewidth": 0,
              "ticks": ""
             }
            },
            "type": "histogram"
           }
          ],
          "histogram2d": [
           {
            "colorbar": {
             "outlinewidth": 0,
             "ticks": ""
            },
            "colorscale": [
             [
              0,
              "#0d0887"
             ],
             [
              0.1111111111111111,
              "#46039f"
             ],
             [
              0.2222222222222222,
              "#7201a8"
             ],
             [
              0.3333333333333333,
              "#9c179e"
             ],
             [
              0.4444444444444444,
              "#bd3786"
             ],
             [
              0.5555555555555556,
              "#d8576b"
             ],
             [
              0.6666666666666666,
              "#ed7953"
             ],
             [
              0.7777777777777778,
              "#fb9f3a"
             ],
             [
              0.8888888888888888,
              "#fdca26"
             ],
             [
              1,
              "#f0f921"
             ]
            ],
            "type": "histogram2d"
           }
          ],
          "histogram2dcontour": [
           {
            "colorbar": {
             "outlinewidth": 0,
             "ticks": ""
            },
            "colorscale": [
             [
              0,
              "#0d0887"
             ],
             [
              0.1111111111111111,
              "#46039f"
             ],
             [
              0.2222222222222222,
              "#7201a8"
             ],
             [
              0.3333333333333333,
              "#9c179e"
             ],
             [
              0.4444444444444444,
              "#bd3786"
             ],
             [
              0.5555555555555556,
              "#d8576b"
             ],
             [
              0.6666666666666666,
              "#ed7953"
             ],
             [
              0.7777777777777778,
              "#fb9f3a"
             ],
             [
              0.8888888888888888,
              "#fdca26"
             ],
             [
              1,
              "#f0f921"
             ]
            ],
            "type": "histogram2dcontour"
           }
          ],
          "mesh3d": [
           {
            "colorbar": {
             "outlinewidth": 0,
             "ticks": ""
            },
            "type": "mesh3d"
           }
          ],
          "parcoords": [
           {
            "line": {
             "colorbar": {
              "outlinewidth": 0,
              "ticks": ""
             }
            },
            "type": "parcoords"
           }
          ],
          "pie": [
           {
            "automargin": true,
            "type": "pie"
           }
          ],
          "scatter": [
           {
            "marker": {
             "colorbar": {
              "outlinewidth": 0,
              "ticks": ""
             }
            },
            "type": "scatter"
           }
          ],
          "scatter3d": [
           {
            "line": {
             "colorbar": {
              "outlinewidth": 0,
              "ticks": ""
             }
            },
            "marker": {
             "colorbar": {
              "outlinewidth": 0,
              "ticks": ""
             }
            },
            "type": "scatter3d"
           }
          ],
          "scattercarpet": [
           {
            "marker": {
             "colorbar": {
              "outlinewidth": 0,
              "ticks": ""
             }
            },
            "type": "scattercarpet"
           }
          ],
          "scattergeo": [
           {
            "marker": {
             "colorbar": {
              "outlinewidth": 0,
              "ticks": ""
             }
            },
            "type": "scattergeo"
           }
          ],
          "scattergl": [
           {
            "marker": {
             "colorbar": {
              "outlinewidth": 0,
              "ticks": ""
             }
            },
            "type": "scattergl"
           }
          ],
          "scattermapbox": [
           {
            "marker": {
             "colorbar": {
              "outlinewidth": 0,
              "ticks": ""
             }
            },
            "type": "scattermapbox"
           }
          ],
          "scatterpolar": [
           {
            "marker": {
             "colorbar": {
              "outlinewidth": 0,
              "ticks": ""
             }
            },
            "type": "scatterpolar"
           }
          ],
          "scatterpolargl": [
           {
            "marker": {
             "colorbar": {
              "outlinewidth": 0,
              "ticks": ""
             }
            },
            "type": "scatterpolargl"
           }
          ],
          "scatterternary": [
           {
            "marker": {
             "colorbar": {
              "outlinewidth": 0,
              "ticks": ""
             }
            },
            "type": "scatterternary"
           }
          ],
          "surface": [
           {
            "colorbar": {
             "outlinewidth": 0,
             "ticks": ""
            },
            "colorscale": [
             [
              0,
              "#0d0887"
             ],
             [
              0.1111111111111111,
              "#46039f"
             ],
             [
              0.2222222222222222,
              "#7201a8"
             ],
             [
              0.3333333333333333,
              "#9c179e"
             ],
             [
              0.4444444444444444,
              "#bd3786"
             ],
             [
              0.5555555555555556,
              "#d8576b"
             ],
             [
              0.6666666666666666,
              "#ed7953"
             ],
             [
              0.7777777777777778,
              "#fb9f3a"
             ],
             [
              0.8888888888888888,
              "#fdca26"
             ],
             [
              1,
              "#f0f921"
             ]
            ],
            "type": "surface"
           }
          ],
          "table": [
           {
            "cells": {
             "fill": {
              "color": "#EBF0F8"
             },
             "line": {
              "color": "white"
             }
            },
            "header": {
             "fill": {
              "color": "#C8D4E3"
             },
             "line": {
              "color": "white"
             }
            },
            "type": "table"
           }
          ]
         },
         "layout": {
          "annotationdefaults": {
           "arrowcolor": "#2a3f5f",
           "arrowhead": 0,
           "arrowwidth": 1
          },
          "coloraxis": {
           "colorbar": {
            "outlinewidth": 0,
            "ticks": ""
           }
          },
          "colorscale": {
           "diverging": [
            [
             0,
             "#8e0152"
            ],
            [
             0.1,
             "#c51b7d"
            ],
            [
             0.2,
             "#de77ae"
            ],
            [
             0.3,
             "#f1b6da"
            ],
            [
             0.4,
             "#fde0ef"
            ],
            [
             0.5,
             "#f7f7f7"
            ],
            [
             0.6,
             "#e6f5d0"
            ],
            [
             0.7,
             "#b8e186"
            ],
            [
             0.8,
             "#7fbc41"
            ],
            [
             0.9,
             "#4d9221"
            ],
            [
             1,
             "#276419"
            ]
           ],
           "sequential": [
            [
             0,
             "#0d0887"
            ],
            [
             0.1111111111111111,
             "#46039f"
            ],
            [
             0.2222222222222222,
             "#7201a8"
            ],
            [
             0.3333333333333333,
             "#9c179e"
            ],
            [
             0.4444444444444444,
             "#bd3786"
            ],
            [
             0.5555555555555556,
             "#d8576b"
            ],
            [
             0.6666666666666666,
             "#ed7953"
            ],
            [
             0.7777777777777778,
             "#fb9f3a"
            ],
            [
             0.8888888888888888,
             "#fdca26"
            ],
            [
             1,
             "#f0f921"
            ]
           ],
           "sequentialminus": [
            [
             0,
             "#0d0887"
            ],
            [
             0.1111111111111111,
             "#46039f"
            ],
            [
             0.2222222222222222,
             "#7201a8"
            ],
            [
             0.3333333333333333,
             "#9c179e"
            ],
            [
             0.4444444444444444,
             "#bd3786"
            ],
            [
             0.5555555555555556,
             "#d8576b"
            ],
            [
             0.6666666666666666,
             "#ed7953"
            ],
            [
             0.7777777777777778,
             "#fb9f3a"
            ],
            [
             0.8888888888888888,
             "#fdca26"
            ],
            [
             1,
             "#f0f921"
            ]
           ]
          },
          "colorway": [
           "#636efa",
           "#EF553B",
           "#00cc96",
           "#ab63fa",
           "#FFA15A",
           "#19d3f3",
           "#FF6692",
           "#B6E880",
           "#FF97FF",
           "#FECB52"
          ],
          "font": {
           "color": "#2a3f5f"
          },
          "geo": {
           "bgcolor": "white",
           "lakecolor": "white",
           "landcolor": "#E5ECF6",
           "showlakes": true,
           "showland": true,
           "subunitcolor": "white"
          },
          "hoverlabel": {
           "align": "left"
          },
          "hovermode": "closest",
          "mapbox": {
           "style": "light"
          },
          "paper_bgcolor": "white",
          "plot_bgcolor": "#E5ECF6",
          "polar": {
           "angularaxis": {
            "gridcolor": "white",
            "linecolor": "white",
            "ticks": ""
           },
           "bgcolor": "#E5ECF6",
           "radialaxis": {
            "gridcolor": "white",
            "linecolor": "white",
            "ticks": ""
           }
          },
          "scene": {
           "xaxis": {
            "backgroundcolor": "#E5ECF6",
            "gridcolor": "white",
            "gridwidth": 2,
            "linecolor": "white",
            "showbackground": true,
            "ticks": "",
            "zerolinecolor": "white"
           },
           "yaxis": {
            "backgroundcolor": "#E5ECF6",
            "gridcolor": "white",
            "gridwidth": 2,
            "linecolor": "white",
            "showbackground": true,
            "ticks": "",
            "zerolinecolor": "white"
           },
           "zaxis": {
            "backgroundcolor": "#E5ECF6",
            "gridcolor": "white",
            "gridwidth": 2,
            "linecolor": "white",
            "showbackground": true,
            "ticks": "",
            "zerolinecolor": "white"
           }
          },
          "shapedefaults": {
           "line": {
            "color": "#2a3f5f"
           }
          },
          "ternary": {
           "aaxis": {
            "gridcolor": "white",
            "linecolor": "white",
            "ticks": ""
           },
           "baxis": {
            "gridcolor": "white",
            "linecolor": "white",
            "ticks": ""
           },
           "bgcolor": "#E5ECF6",
           "caxis": {
            "gridcolor": "white",
            "linecolor": "white",
            "ticks": ""
           }
          },
          "title": {
           "x": 0.05
          },
          "xaxis": {
           "automargin": true,
           "gridcolor": "white",
           "linecolor": "white",
           "ticks": "",
           "title": {
            "standoff": 15
           },
           "zerolinecolor": "white",
           "zerolinewidth": 2
          },
          "yaxis": {
           "automargin": true,
           "gridcolor": "white",
           "linecolor": "white",
           "ticks": "",
           "title": {
            "standoff": 15
           },
           "zerolinecolor": "white",
           "zerolinewidth": 2
          }
         }
        },
        "xaxis": {
         "anchor": "y",
         "domain": [
          0,
          1
         ]
        },
        "yaxis": {
         "anchor": "x",
         "domain": [
          0,
          1
         ],
         "title": {
          "text": "surplus"
         }
        }
       }
      },
      "text/html": [
       "<div>\n",
       "        \n",
       "        \n",
       "            <div id=\"b14292f1-0ea0-4a10-bd44-15e538cee2cd\" class=\"plotly-graph-div\" style=\"height:525px; width:100%;\"></div>\n",
       "            <script type=\"text/javascript\">\n",
       "                require([\"plotly\"], function(Plotly) {\n",
       "                    window.PLOTLYENV=window.PLOTLYENV || {};\n",
       "                    \n",
       "                if (document.getElementById(\"b14292f1-0ea0-4a10-bd44-15e538cee2cd\")) {\n",
       "                    Plotly.newPlot(\n",
       "                        'b14292f1-0ea0-4a10-bd44-15e538cee2cd',\n",
       "                        [{\"alignmentgroup\": \"True\", \"customdata\": [[47920.23000000002, 167871.77999999994], [40449.049999999996, 64720.19], [20963.320000000003, 43839.43], [18238.53, 22389.409999999993], [5699.620000000001, 5807.530000000002], [12726.630000000001, 52048.259999999995]], \"hovertemplate\": \"surplus=%{y}<br>value_exp=%{customdata[0]}<br>value_imp=%{customdata[1]}<extra></extra>\", \"legendgroup\": \"\", \"marker\": {\"color\": \"#636efa\"}, \"name\": \"\", \"offsetgroup\": \"\", \"orientation\": \"v\", \"showlegend\": false, \"textposition\": \"auto\", \"type\": \"bar\", \"xaxis\": \"x\", \"y\": [-119951.54999999993, -24271.140000000007, -22876.109999999997, -4150.879999999994, -107.91000000000076, -39321.62999999999], \"yaxis\": \"y\"}],\n",
       "                        {\"barmode\": \"relative\", \"legend\": {\"tracegroupgap\": 0}, \"margin\": {\"t\": 60}, \"template\": {\"data\": {\"bar\": [{\"error_x\": {\"color\": \"#2a3f5f\"}, \"error_y\": {\"color\": \"#2a3f5f\"}, \"marker\": {\"line\": {\"color\": \"#E5ECF6\", \"width\": 0.5}}, \"type\": \"bar\"}], \"barpolar\": [{\"marker\": {\"line\": {\"color\": \"#E5ECF6\", \"width\": 0.5}}, \"type\": \"barpolar\"}], \"carpet\": [{\"aaxis\": {\"endlinecolor\": \"#2a3f5f\", \"gridcolor\": \"white\", \"linecolor\": \"white\", \"minorgridcolor\": \"white\", \"startlinecolor\": \"#2a3f5f\"}, \"baxis\": {\"endlinecolor\": \"#2a3f5f\", \"gridcolor\": \"white\", \"linecolor\": \"white\", \"minorgridcolor\": \"white\", \"startlinecolor\": \"#2a3f5f\"}, \"type\": \"carpet\"}], \"choropleth\": [{\"colorbar\": {\"outlinewidth\": 0, \"ticks\": \"\"}, \"type\": \"choropleth\"}], \"contour\": [{\"colorbar\": {\"outlinewidth\": 0, \"ticks\": \"\"}, \"colorscale\": [[0.0, \"#0d0887\"], [0.1111111111111111, \"#46039f\"], [0.2222222222222222, \"#7201a8\"], [0.3333333333333333, \"#9c179e\"], [0.4444444444444444, \"#bd3786\"], [0.5555555555555556, \"#d8576b\"], [0.6666666666666666, \"#ed7953\"], [0.7777777777777778, \"#fb9f3a\"], [0.8888888888888888, \"#fdca26\"], [1.0, \"#f0f921\"]], \"type\": \"contour\"}], \"contourcarpet\": [{\"colorbar\": {\"outlinewidth\": 0, \"ticks\": \"\"}, \"type\": \"contourcarpet\"}], \"heatmap\": [{\"colorbar\": {\"outlinewidth\": 0, \"ticks\": \"\"}, \"colorscale\": [[0.0, \"#0d0887\"], [0.1111111111111111, \"#46039f\"], [0.2222222222222222, \"#7201a8\"], [0.3333333333333333, \"#9c179e\"], [0.4444444444444444, \"#bd3786\"], [0.5555555555555556, \"#d8576b\"], [0.6666666666666666, \"#ed7953\"], [0.7777777777777778, \"#fb9f3a\"], [0.8888888888888888, \"#fdca26\"], [1.0, \"#f0f921\"]], \"type\": \"heatmap\"}], \"heatmapgl\": [{\"colorbar\": {\"outlinewidth\": 0, \"ticks\": \"\"}, \"colorscale\": [[0.0, \"#0d0887\"], [0.1111111111111111, \"#46039f\"], [0.2222222222222222, \"#7201a8\"], [0.3333333333333333, \"#9c179e\"], [0.4444444444444444, \"#bd3786\"], [0.5555555555555556, \"#d8576b\"], [0.6666666666666666, \"#ed7953\"], [0.7777777777777778, \"#fb9f3a\"], [0.8888888888888888, \"#fdca26\"], [1.0, \"#f0f921\"]], \"type\": \"heatmapgl\"}], \"histogram\": [{\"marker\": {\"colorbar\": {\"outlinewidth\": 0, \"ticks\": \"\"}}, \"type\": \"histogram\"}], \"histogram2d\": [{\"colorbar\": {\"outlinewidth\": 0, \"ticks\": \"\"}, \"colorscale\": [[0.0, \"#0d0887\"], [0.1111111111111111, \"#46039f\"], [0.2222222222222222, \"#7201a8\"], [0.3333333333333333, \"#9c179e\"], [0.4444444444444444, \"#bd3786\"], [0.5555555555555556, \"#d8576b\"], [0.6666666666666666, \"#ed7953\"], [0.7777777777777778, \"#fb9f3a\"], [0.8888888888888888, \"#fdca26\"], [1.0, \"#f0f921\"]], \"type\": \"histogram2d\"}], \"histogram2dcontour\": [{\"colorbar\": {\"outlinewidth\": 0, \"ticks\": \"\"}, \"colorscale\": [[0.0, \"#0d0887\"], [0.1111111111111111, \"#46039f\"], [0.2222222222222222, \"#7201a8\"], [0.3333333333333333, \"#9c179e\"], [0.4444444444444444, \"#bd3786\"], [0.5555555555555556, \"#d8576b\"], [0.6666666666666666, \"#ed7953\"], [0.7777777777777778, \"#fb9f3a\"], [0.8888888888888888, \"#fdca26\"], [1.0, \"#f0f921\"]], \"type\": \"histogram2dcontour\"}], \"mesh3d\": [{\"colorbar\": {\"outlinewidth\": 0, \"ticks\": \"\"}, \"type\": \"mesh3d\"}], \"parcoords\": [{\"line\": {\"colorbar\": {\"outlinewidth\": 0, \"ticks\": \"\"}}, \"type\": \"parcoords\"}], \"pie\": [{\"automargin\": true, \"type\": \"pie\"}], \"scatter\": [{\"marker\": {\"colorbar\": {\"outlinewidth\": 0, \"ticks\": \"\"}}, \"type\": \"scatter\"}], \"scatter3d\": [{\"line\": {\"colorbar\": {\"outlinewidth\": 0, \"ticks\": \"\"}}, \"marker\": {\"colorbar\": {\"outlinewidth\": 0, \"ticks\": \"\"}}, \"type\": \"scatter3d\"}], \"scattercarpet\": [{\"marker\": {\"colorbar\": {\"outlinewidth\": 0, \"ticks\": \"\"}}, \"type\": \"scattercarpet\"}], \"scattergeo\": [{\"marker\": {\"colorbar\": {\"outlinewidth\": 0, \"ticks\": \"\"}}, \"type\": \"scattergeo\"}], \"scattergl\": [{\"marker\": {\"colorbar\": {\"outlinewidth\": 0, \"ticks\": \"\"}}, \"type\": \"scattergl\"}], \"scattermapbox\": [{\"marker\": {\"colorbar\": {\"outlinewidth\": 0, \"ticks\": \"\"}}, \"type\": \"scattermapbox\"}], \"scatterpolar\": [{\"marker\": {\"colorbar\": {\"outlinewidth\": 0, \"ticks\": \"\"}}, \"type\": \"scatterpolar\"}], \"scatterpolargl\": [{\"marker\": {\"colorbar\": {\"outlinewidth\": 0, \"ticks\": \"\"}}, \"type\": \"scatterpolargl\"}], \"scatterternary\": [{\"marker\": {\"colorbar\": {\"outlinewidth\": 0, \"ticks\": \"\"}}, \"type\": \"scatterternary\"}], \"surface\": [{\"colorbar\": {\"outlinewidth\": 0, \"ticks\": \"\"}, \"colorscale\": [[0.0, \"#0d0887\"], [0.1111111111111111, \"#46039f\"], [0.2222222222222222, \"#7201a8\"], [0.3333333333333333, \"#9c179e\"], [0.4444444444444444, \"#bd3786\"], [0.5555555555555556, \"#d8576b\"], [0.6666666666666666, \"#ed7953\"], [0.7777777777777778, \"#fb9f3a\"], [0.8888888888888888, \"#fdca26\"], [1.0, \"#f0f921\"]], \"type\": \"surface\"}], \"table\": [{\"cells\": {\"fill\": {\"color\": \"#EBF0F8\"}, \"line\": {\"color\": \"white\"}}, \"header\": {\"fill\": {\"color\": \"#C8D4E3\"}, \"line\": {\"color\": \"white\"}}, \"type\": \"table\"}]}, \"layout\": {\"annotationdefaults\": {\"arrowcolor\": \"#2a3f5f\", \"arrowhead\": 0, \"arrowwidth\": 1}, \"coloraxis\": {\"colorbar\": {\"outlinewidth\": 0, \"ticks\": \"\"}}, \"colorscale\": {\"diverging\": [[0, \"#8e0152\"], [0.1, \"#c51b7d\"], [0.2, \"#de77ae\"], [0.3, \"#f1b6da\"], [0.4, \"#fde0ef\"], [0.5, \"#f7f7f7\"], [0.6, \"#e6f5d0\"], [0.7, \"#b8e186\"], [0.8, \"#7fbc41\"], [0.9, \"#4d9221\"], [1, \"#276419\"]], \"sequential\": [[0.0, \"#0d0887\"], [0.1111111111111111, \"#46039f\"], [0.2222222222222222, \"#7201a8\"], [0.3333333333333333, \"#9c179e\"], [0.4444444444444444, \"#bd3786\"], [0.5555555555555556, \"#d8576b\"], [0.6666666666666666, \"#ed7953\"], [0.7777777777777778, \"#fb9f3a\"], [0.8888888888888888, \"#fdca26\"], [1.0, \"#f0f921\"]], \"sequentialminus\": [[0.0, \"#0d0887\"], [0.1111111111111111, \"#46039f\"], [0.2222222222222222, \"#7201a8\"], [0.3333333333333333, \"#9c179e\"], [0.4444444444444444, \"#bd3786\"], [0.5555555555555556, \"#d8576b\"], [0.6666666666666666, \"#ed7953\"], [0.7777777777777778, \"#fb9f3a\"], [0.8888888888888888, \"#fdca26\"], [1.0, \"#f0f921\"]]}, \"colorway\": [\"#636efa\", \"#EF553B\", \"#00cc96\", \"#ab63fa\", \"#FFA15A\", \"#19d3f3\", \"#FF6692\", \"#B6E880\", \"#FF97FF\", \"#FECB52\"], \"font\": {\"color\": \"#2a3f5f\"}, \"geo\": {\"bgcolor\": \"white\", \"lakecolor\": \"white\", \"landcolor\": \"#E5ECF6\", \"showlakes\": true, \"showland\": true, \"subunitcolor\": \"white\"}, \"hoverlabel\": {\"align\": \"left\"}, \"hovermode\": \"closest\", \"mapbox\": {\"style\": \"light\"}, \"paper_bgcolor\": \"white\", \"plot_bgcolor\": \"#E5ECF6\", \"polar\": {\"angularaxis\": {\"gridcolor\": \"white\", \"linecolor\": \"white\", \"ticks\": \"\"}, \"bgcolor\": \"#E5ECF6\", \"radialaxis\": {\"gridcolor\": \"white\", \"linecolor\": \"white\", \"ticks\": \"\"}}, \"scene\": {\"xaxis\": {\"backgroundcolor\": \"#E5ECF6\", \"gridcolor\": \"white\", \"gridwidth\": 2, \"linecolor\": \"white\", \"showbackground\": true, \"ticks\": \"\", \"zerolinecolor\": \"white\"}, \"yaxis\": {\"backgroundcolor\": \"#E5ECF6\", \"gridcolor\": \"white\", \"gridwidth\": 2, \"linecolor\": \"white\", \"showbackground\": true, \"ticks\": \"\", \"zerolinecolor\": \"white\"}, \"zaxis\": {\"backgroundcolor\": \"#E5ECF6\", \"gridcolor\": \"white\", \"gridwidth\": 2, \"linecolor\": \"white\", \"showbackground\": true, \"ticks\": \"\", \"zerolinecolor\": \"white\"}}, \"shapedefaults\": {\"line\": {\"color\": \"#2a3f5f\"}}, \"ternary\": {\"aaxis\": {\"gridcolor\": \"white\", \"linecolor\": \"white\", \"ticks\": \"\"}, \"baxis\": {\"gridcolor\": \"white\", \"linecolor\": \"white\", \"ticks\": \"\"}, \"bgcolor\": \"#E5ECF6\", \"caxis\": {\"gridcolor\": \"white\", \"linecolor\": \"white\", \"ticks\": \"\"}}, \"title\": {\"x\": 0.05}, \"xaxis\": {\"automargin\": true, \"gridcolor\": \"white\", \"linecolor\": \"white\", \"ticks\": \"\", \"title\": {\"standoff\": 15}, \"zerolinecolor\": \"white\", \"zerolinewidth\": 2}, \"yaxis\": {\"automargin\": true, \"gridcolor\": \"white\", \"linecolor\": \"white\", \"ticks\": \"\", \"title\": {\"standoff\": 15}, \"zerolinecolor\": \"white\", \"zerolinewidth\": 2}}}, \"xaxis\": {\"anchor\": \"y\", \"domain\": [0.0, 1.0]}, \"yaxis\": {\"anchor\": \"x\", \"domain\": [0.0, 1.0], \"title\": {\"text\": \"surplus\"}}},\n",
       "                        {\"responsive\": true}\n",
       "                    ).then(function(){\n",
       "                            \n",
       "var gd = document.getElementById('b14292f1-0ea0-4a10-bd44-15e538cee2cd');\n",
       "var x = new MutationObserver(function (mutations, observer) {{\n",
       "        var display = window.getComputedStyle(gd).display;\n",
       "        if (!display || display === 'none') {{\n",
       "            console.log([gd, 'removed!']);\n",
       "            Plotly.purge(gd);\n",
       "            observer.disconnect();\n",
       "        }}\n",
       "}});\n",
       "\n",
       "// Listen for the removal of the full notebook cells\n",
       "var notebookContainer = gd.closest('#notebook-container');\n",
       "if (notebookContainer) {{\n",
       "    x.observe(notebookContainer, {childList: true});\n",
       "}}\n",
       "\n",
       "// Listen for the clearing of the current output cell\n",
       "var outputEl = gd.closest('.output');\n",
       "if (outputEl) {{\n",
       "    x.observe(outputEl, {childList: true});\n",
       "}}\n",
       "\n",
       "                        })\n",
       "                };\n",
       "                });\n",
       "            </script>\n",
       "        </div>"
      ]
     },
     "metadata": {},
     "output_type": "display_data"
    }
   ],
   "source": [
    "# Merging Top imports and exports for finding deficits/surpluses.\n",
    "\n",
    "commonItems = pd.merge(top_exp.reset_index(), \n",
    "         top_imp.reset_index(), \n",
    "         how='inner', on=['Commodity'],\n",
    "         suffixes=('_exp', '_imp'))\n",
    "\n",
    "commonItems['surplus'] = commonItems['value_exp'] - commonItems['value_imp']\n",
    "print(\"Commodities in Total in Both of top_exports, top_imports : \", len(commonItems))\n",
    "fig = px.bar(commonItems, y=\"surplus\", hover_data=[\"value_exp\", \"value_imp\"])\n",
    "fig.show()"
   ]
  },
  {
   "cell_type": "markdown",
   "metadata": {},
   "source": [
    "<div class=\"alert alert-success\">\n",
    "\n",
    "<b>Trade Deficit</b>:\n",
    "\n",
    "<ul>\n",
    "  <li> For the top 10 imported commodities, fidning the trade deficits</li>\n",
    "</ul>\n",
    " \n",
    "</div>"
   ]
  },
  {
   "cell_type": "code",
   "execution_count": 7,
   "metadata": {},
   "outputs": [
    {
     "data": {
      "text/html": [
       "<div>\n",
       "<style scoped>\n",
       "    .dataframe tbody tr th:only-of-type {\n",
       "        vertical-align: middle;\n",
       "    }\n",
       "\n",
       "    .dataframe tbody tr th {\n",
       "        vertical-align: top;\n",
       "    }\n",
       "\n",
       "    .dataframe thead th {\n",
       "        text-align: right;\n",
       "    }\n",
       "</style>\n",
       "<table border=\"1\" class=\"dataframe\">\n",
       "  <thead>\n",
       "    <tr style=\"text-align: right;\">\n",
       "      <th></th>\n",
       "      <th>Commodity</th>\n",
       "      <th>value_imp</th>\n",
       "      <th>country_imp</th>\n",
       "      <th>value_exp</th>\n",
       "      <th>country_exp</th>\n",
       "      <th>Trade Deficit</th>\n",
       "    </tr>\n",
       "  </thead>\n",
       "  <tbody>\n",
       "    <tr>\n",
       "      <th>0</th>\n",
       "      <td>MINERAL FUELS, MINERAL OILS AND PRODUCTS OF TH...</td>\n",
       "      <td>167871.78</td>\n",
       "      <td>134.0</td>\n",
       "      <td>47920.23</td>\n",
       "      <td>178</td>\n",
       "      <td>-119951.55</td>\n",
       "    </tr>\n",
       "    <tr>\n",
       "      <th>1</th>\n",
       "      <td>NATURAL OR CULTURED PEARLS,PRECIOUS OR SEMIPRE...</td>\n",
       "      <td>64720.19</td>\n",
       "      <td>132.0</td>\n",
       "      <td>40449.05</td>\n",
       "      <td>201</td>\n",
       "      <td>-24271.14</td>\n",
       "    </tr>\n",
       "    <tr>\n",
       "      <th>2</th>\n",
       "      <td>ELECTRICAL MACHINERY AND EQUIPMENT AND PARTS T...</td>\n",
       "      <td>52048.26</td>\n",
       "      <td>197.0</td>\n",
       "      <td>12726.63</td>\n",
       "      <td>224</td>\n",
       "      <td>-39321.63</td>\n",
       "    </tr>\n",
       "    <tr>\n",
       "      <th>3</th>\n",
       "      <td>NUCLEAR REACTORS, BOILERS, MACHINERY AND MECHA...</td>\n",
       "      <td>43839.43</td>\n",
       "      <td>194.0</td>\n",
       "      <td>20963.32</td>\n",
       "      <td>224</td>\n",
       "      <td>-22876.11</td>\n",
       "    </tr>\n",
       "    <tr>\n",
       "      <th>4</th>\n",
       "      <td>ORGANIC CHEMICALS</td>\n",
       "      <td>22389.41</td>\n",
       "      <td>128.0</td>\n",
       "      <td>18238.53</td>\n",
       "      <td>197</td>\n",
       "      <td>-4150.88</td>\n",
       "    </tr>\n",
       "    <tr>\n",
       "      <th>5</th>\n",
       "      <td>PLASTIC AND ARTICLES THEREOF.</td>\n",
       "      <td>15246.55</td>\n",
       "      <td>173.0</td>\n",
       "      <td>8014.30</td>\n",
       "      <td>213</td>\n",
       "      <td>-7232.25</td>\n",
       "    </tr>\n",
       "    <tr>\n",
       "      <th>6</th>\n",
       "      <td>IRON AND STEEL</td>\n",
       "      <td>12582.09</td>\n",
       "      <td>166.0</td>\n",
       "      <td>9741.67</td>\n",
       "      <td>185</td>\n",
       "      <td>-2840.42</td>\n",
       "    </tr>\n",
       "    <tr>\n",
       "      <th>7</th>\n",
       "      <td>ANIMAL OR VEGETABLE FATS AND OILS AND THEIR CL...</td>\n",
       "      <td>9994.44</td>\n",
       "      <td>74.0</td>\n",
       "      <td>1097.47</td>\n",
       "      <td>171</td>\n",
       "      <td>-8896.97</td>\n",
       "    </tr>\n",
       "    <tr>\n",
       "      <th>8</th>\n",
       "      <td>OPTICAL, PHOTOGRAPHIC CINEMATOGRAPHIC MEASURIN...</td>\n",
       "      <td>9630.98</td>\n",
       "      <td>163.0</td>\n",
       "      <td>3255.46</td>\n",
       "      <td>218</td>\n",
       "      <td>-6375.52</td>\n",
       "    </tr>\n",
       "    <tr>\n",
       "      <th>9</th>\n",
       "      <td>INORGANIC CHEMICALS; ORGANIC OR INORGANIC COMP...</td>\n",
       "      <td>7624.43</td>\n",
       "      <td>114.0</td>\n",
       "      <td>2011.31</td>\n",
       "      <td>187</td>\n",
       "      <td>-5613.12</td>\n",
       "    </tr>\n",
       "  </tbody>\n",
       "</table>\n",
       "</div>"
      ],
      "text/plain": [
       "                                           Commodity  value_imp  country_imp  \\\n",
       "0  MINERAL FUELS, MINERAL OILS AND PRODUCTS OF TH...  167871.78        134.0   \n",
       "1  NATURAL OR CULTURED PEARLS,PRECIOUS OR SEMIPRE...   64720.19        132.0   \n",
       "2  ELECTRICAL MACHINERY AND EQUIPMENT AND PARTS T...   52048.26        197.0   \n",
       "3  NUCLEAR REACTORS, BOILERS, MACHINERY AND MECHA...   43839.43        194.0   \n",
       "4                                  ORGANIC CHEMICALS   22389.41        128.0   \n",
       "5                      PLASTIC AND ARTICLES THEREOF.   15246.55        173.0   \n",
       "6                                     IRON AND STEEL   12582.09        166.0   \n",
       "7  ANIMAL OR VEGETABLE FATS AND OILS AND THEIR CL...    9994.44         74.0   \n",
       "8  OPTICAL, PHOTOGRAPHIC CINEMATOGRAPHIC MEASURIN...    9630.98        163.0   \n",
       "9  INORGANIC CHEMICALS; ORGANIC OR INORGANIC COMP...    7624.43        114.0   \n",
       "\n",
       "   value_exp  country_exp  Trade Deficit  \n",
       "0   47920.23          178     -119951.55  \n",
       "1   40449.05          201      -24271.14  \n",
       "2   12726.63          224      -39321.63  \n",
       "3   20963.32          224      -22876.11  \n",
       "4   18238.53          197       -4150.88  \n",
       "5    8014.30          213       -7232.25  \n",
       "6    9741.67          185       -2840.42  \n",
       "7    1097.47          171       -8896.97  \n",
       "8    3255.46          218       -6375.52  \n",
       "9    2011.31          187       -5613.12  "
      ]
     },
     "metadata": {},
     "output_type": "display_data"
    }
   ],
   "source": [
    "top_exp_all = data_export.groupby([\"Commodity\"]).agg({'value':'sum','country':'nunique'})\n",
    "top_exp_all = top_exp_all.sort_values('value', ascending=False)\n",
    "top_imp_10 = data_import.groupby([\"Commodity\"]).agg({'value':'sum','country':'nunique'})\n",
    "top_imp_10 = top_imp_10.sort_values('value', ascending=False)[:10]\n",
    "top10Imp = pd.merge(top_imp_10.reset_index(), \n",
    "         top_exp_all.reset_index(), \n",
    "         how='right', on=['Commodity'],\n",
    "         suffixes=('_imp', '_exp'))\n",
    "top10Imp[\"Trade Deficit\"] = top10Imp[\"value_exp\"] - top10Imp[\"value_imp\"]\n",
    "display(top10Imp.head(n=10))"
   ]
  },
  {
   "cell_type": "markdown",
   "metadata": {},
   "source": [
    "<div class=\"alert alert-success\">\n",
    "\n",
    "<b>What Dollar Value Was Imported for Each Country-Commodity Pair</b>:\n",
    "\n",
    "</div>"
   ]
  },
  {
   "cell_type": "code",
   "execution_count": 8,
   "metadata": {},
   "outputs": [
    {
     "data": {
      "text/html": [
       "<div>\n",
       "<style scoped>\n",
       "    .dataframe tbody tr th:only-of-type {\n",
       "        vertical-align: middle;\n",
       "    }\n",
       "\n",
       "    .dataframe tbody tr th {\n",
       "        vertical-align: top;\n",
       "    }\n",
       "\n",
       "    .dataframe thead th {\n",
       "        text-align: right;\n",
       "    }\n",
       "</style>\n",
       "<table border=\"1\" class=\"dataframe\">\n",
       "  <thead>\n",
       "    <tr style=\"text-align: right;\">\n",
       "      <th></th>\n",
       "      <th></th>\n",
       "      <th>value</th>\n",
       "    </tr>\n",
       "    <tr>\n",
       "      <th>country</th>\n",
       "      <th>Commodity</th>\n",
       "      <th></th>\n",
       "    </tr>\n",
       "  </thead>\n",
       "  <tbody>\n",
       "    <tr>\n",
       "      <th rowspan=\"5\" valign=\"top\">AFGHANISTAN TIS</th>\n",
       "      <th>ARTICLES OF STONE, PLASTER, CEMENT, ASBESTOS, MICA OR SIMILAR MATERIALS.</th>\n",
       "      <td>0.01</td>\n",
       "    </tr>\n",
       "    <tr>\n",
       "      <th>CARPETS AND OTHER TEXTILE FLOOR COVERINGS.</th>\n",
       "      <td>0.02</td>\n",
       "    </tr>\n",
       "    <tr>\n",
       "      <th>COFFEE, TEA, MATE AND SPICES.</th>\n",
       "      <td>35.48</td>\n",
       "    </tr>\n",
       "    <tr>\n",
       "      <th>COPPER AND ARTICLES THEREOF.</th>\n",
       "      <td>0.36</td>\n",
       "    </tr>\n",
       "    <tr>\n",
       "      <th>COTTON.</th>\n",
       "      <td>0.01</td>\n",
       "    </tr>\n",
       "    <tr>\n",
       "      <th>...</th>\n",
       "      <th>...</th>\n",
       "      <td>...</td>\n",
       "    </tr>\n",
       "    <tr>\n",
       "      <th rowspan=\"5\" valign=\"top\">ZIMBABWE</th>\n",
       "      <th>RUBBER AND ARTICLES THEREOF.</th>\n",
       "      <td>0.00</td>\n",
       "    </tr>\n",
       "    <tr>\n",
       "      <th>SALT; SULPHUR; EARTHS AND STONE; PLASTERING MATERIALS, LIME AND CEMENT.</th>\n",
       "      <td>0.14</td>\n",
       "    </tr>\n",
       "    <tr>\n",
       "      <th>TANNING OR DYEING EXTRACTS; TANNINS AND THEIR DERI. DYES, PIGMENTS AND OTHER COLOURING MATTER; PAINTS AND VER; PUTTY AND OTHER MASTICS; INKS.</th>\n",
       "      <td>0.62</td>\n",
       "    </tr>\n",
       "    <tr>\n",
       "      <th>TOBACCO AND MANUFACTURED TOBACCO SUBSTITUTES.</th>\n",
       "      <td>4.97</td>\n",
       "    </tr>\n",
       "    <tr>\n",
       "      <th>WOOD AND ARTICLES OF WOOD; WOOD CHARCOAL.</th>\n",
       "      <td>0.00</td>\n",
       "    </tr>\n",
       "  </tbody>\n",
       "</table>\n",
       "<p>8647 rows × 1 columns</p>\n",
       "</div>"
      ],
      "text/plain": [
       "                                                                    value\n",
       "country         Commodity                                                \n",
       "AFGHANISTAN TIS ARTICLES OF STONE, PLASTER, CEMENT, ASBESTOS, M...   0.01\n",
       "                CARPETS AND OTHER TEXTILE FLOOR COVERINGS.           0.02\n",
       "                COFFEE, TEA, MATE AND SPICES.                       35.48\n",
       "                COPPER AND ARTICLES THEREOF.                         0.36\n",
       "                COTTON.                                              0.01\n",
       "...                                                                   ...\n",
       "ZIMBABWE        RUBBER AND ARTICLES THEREOF.                         0.00\n",
       "                SALT; SULPHUR; EARTHS AND STONE; PLASTERING MAT...   0.14\n",
       "                TANNING OR DYEING EXTRACTS; TANNINS AND THEIR D...   0.62\n",
       "                TOBACCO AND MANUFACTURED TOBACCO SUBSTITUTES.        4.97\n",
       "                WOOD AND ARTICLES OF WOOD; WOOD CHARCOAL.            0.00\n",
       "\n",
       "[8647 rows x 1 columns]"
      ]
     },
     "metadata": {},
     "output_type": "display_data"
    }
   ],
   "source": [
    "df_country_commodity_pair = data_import.groupby([\"country\", 'Commodity']).agg({'value':'sum'})\n",
    "display(df_country_commodity_pair)"
   ]
  },
  {
   "cell_type": "markdown",
   "metadata": {},
   "source": [
    "<div class=\"alert alert-success\">\n",
    "\n",
    "<b>For the Top 10 Imported Commodities, Finding the Top 3 Countries They are Imported From</b>:\n",
    "\n",
    "</div>"
   ]
  },
  {
   "cell_type": "code",
   "execution_count": 9,
   "metadata": {},
   "outputs": [
    {
     "data": {
      "text/html": [
       "<div>\n",
       "<style scoped>\n",
       "    .dataframe tbody tr th:only-of-type {\n",
       "        vertical-align: middle;\n",
       "    }\n",
       "\n",
       "    .dataframe tbody tr th {\n",
       "        vertical-align: top;\n",
       "    }\n",
       "\n",
       "    .dataframe thead th {\n",
       "        text-align: right;\n",
       "    }\n",
       "</style>\n",
       "<table border=\"1\" class=\"dataframe\">\n",
       "  <thead>\n",
       "    <tr style=\"text-align: right;\">\n",
       "      <th></th>\n",
       "      <th>Commodity</th>\n",
       "      <th>value</th>\n",
       "      <th>n_ctries</th>\n",
       "      <th>country</th>\n",
       "      <th>country_value</th>\n",
       "    </tr>\n",
       "  </thead>\n",
       "  <tbody>\n",
       "    <tr>\n",
       "      <th>1152</th>\n",
       "      <td>ANIMAL OR VEGETABLE FATS AND OILS AND THEIR CL...</td>\n",
       "      <td>9994.44</td>\n",
       "      <td>74</td>\n",
       "      <td>INDONESIA</td>\n",
       "      <td>3440.97</td>\n",
       "    </tr>\n",
       "    <tr>\n",
       "      <th>1195</th>\n",
       "      <td>ANIMAL OR VEGETABLE FATS AND OILS AND THEIR CL...</td>\n",
       "      <td>9994.44</td>\n",
       "      <td>74</td>\n",
       "      <td>UKRAINE</td>\n",
       "      <td>1894.95</td>\n",
       "    </tr>\n",
       "    <tr>\n",
       "      <th>1124</th>\n",
       "      <td>ANIMAL OR VEGETABLE FATS AND OILS AND THEIR CL...</td>\n",
       "      <td>9994.44</td>\n",
       "      <td>74</td>\n",
       "      <td>ARGENTINA</td>\n",
       "      <td>1720.46</td>\n",
       "    </tr>\n",
       "    <tr>\n",
       "      <th>305</th>\n",
       "      <td>ELECTRICAL MACHINERY AND EQUIPMENT AND PARTS T...</td>\n",
       "      <td>52048.26</td>\n",
       "      <td>197</td>\n",
       "      <td>CHINA P RP</td>\n",
       "      <td>20627.56</td>\n",
       "    </tr>\n",
       "    <tr>\n",
       "      <th>347</th>\n",
       "      <td>ELECTRICAL MACHINERY AND EQUIPMENT AND PARTS T...</td>\n",
       "      <td>52048.26</td>\n",
       "      <td>197</td>\n",
       "      <td>HONG KONG</td>\n",
       "      <td>8657.63</td>\n",
       "    </tr>\n",
       "    <tr>\n",
       "      <th>458</th>\n",
       "      <td>ELECTRICAL MACHINERY AND EQUIPMENT AND PARTS T...</td>\n",
       "      <td>52048.26</td>\n",
       "      <td>197</td>\n",
       "      <td>VIETNAM SOC REP</td>\n",
       "      <td>3679.53</td>\n",
       "    </tr>\n",
       "    <tr>\n",
       "      <th>1379</th>\n",
       "      <td>INORGANIC CHEMICALS; ORGANIC OR INORGANIC COMP...</td>\n",
       "      <td>7624.43</td>\n",
       "      <td>114</td>\n",
       "      <td>CHINA P RP</td>\n",
       "      <td>1050.23</td>\n",
       "    </tr>\n",
       "    <tr>\n",
       "      <th>1425</th>\n",
       "      <td>INORGANIC CHEMICALS; ORGANIC OR INORGANIC COMP...</td>\n",
       "      <td>7624.43</td>\n",
       "      <td>114</td>\n",
       "      <td>MOROCCO</td>\n",
       "      <td>707.70</td>\n",
       "    </tr>\n",
       "    <tr>\n",
       "      <th>1363</th>\n",
       "      <td>INORGANIC CHEMICALS; ORGANIC OR INORGANIC COMP...</td>\n",
       "      <td>7624.43</td>\n",
       "      <td>114</td>\n",
       "      <td>AUSTRALIA</td>\n",
       "      <td>664.48</td>\n",
       "    </tr>\n",
       "    <tr>\n",
       "      <th>1037</th>\n",
       "      <td>IRON AND STEEL</td>\n",
       "      <td>12582.09</td>\n",
       "      <td>166</td>\n",
       "      <td>KOREA RP</td>\n",
       "      <td>2684.66</td>\n",
       "    </tr>\n",
       "    <tr>\n",
       "      <th>987</th>\n",
       "      <td>IRON AND STEEL</td>\n",
       "      <td>12582.09</td>\n",
       "      <td>166</td>\n",
       "      <td>CHINA P RP</td>\n",
       "      <td>1422.37</td>\n",
       "    </tr>\n",
       "    <tr>\n",
       "      <th>1032</th>\n",
       "      <td>IRON AND STEEL</td>\n",
       "      <td>12582.09</td>\n",
       "      <td>166</td>\n",
       "      <td>JAPAN</td>\n",
       "      <td>1259.14</td>\n",
       "    </tr>\n",
       "    <tr>\n",
       "      <th>96</th>\n",
       "      <td>MINERAL FUELS, MINERAL OILS AND PRODUCTS OF TH...</td>\n",
       "      <td>167871.78</td>\n",
       "      <td>134</td>\n",
       "      <td>SAUDI ARAB</td>\n",
       "      <td>24508.68</td>\n",
       "    </tr>\n",
       "    <tr>\n",
       "      <th>49</th>\n",
       "      <td>MINERAL FUELS, MINERAL OILS AND PRODUCTS OF TH...</td>\n",
       "      <td>167871.78</td>\n",
       "      <td>134</td>\n",
       "      <td>IRAQ</td>\n",
       "      <td>22300.67</td>\n",
       "    </tr>\n",
       "    <tr>\n",
       "      <th>121</th>\n",
       "      <td>MINERAL FUELS, MINERAL OILS AND PRODUCTS OF TH...</td>\n",
       "      <td>167871.78</td>\n",
       "      <td>134</td>\n",
       "      <td>U ARAB EMTS</td>\n",
       "      <td>13656.84</td>\n",
       "    </tr>\n",
       "    <tr>\n",
       "      <th>248</th>\n",
       "      <td>NATURAL OR CULTURED PEARLS,PRECIOUS OR SEMIPRE...</td>\n",
       "      <td>64720.19</td>\n",
       "      <td>132</td>\n",
       "      <td>SWITZERLAND</td>\n",
       "      <td>15476.53</td>\n",
       "    </tr>\n",
       "    <tr>\n",
       "      <th>255</th>\n",
       "      <td>NATURAL OR CULTURED PEARLS,PRECIOUS OR SEMIPRE...</td>\n",
       "      <td>64720.19</td>\n",
       "      <td>132</td>\n",
       "      <td>U ARAB EMTS</td>\n",
       "      <td>8594.62</td>\n",
       "    </tr>\n",
       "    <tr>\n",
       "      <th>257</th>\n",
       "      <td>NATURAL OR CULTURED PEARLS,PRECIOUS OR SEMIPRE...</td>\n",
       "      <td>64720.19</td>\n",
       "      <td>132</td>\n",
       "      <td>U S A</td>\n",
       "      <td>8230.09</td>\n",
       "    </tr>\n",
       "    <tr>\n",
       "      <th>500</th>\n",
       "      <td>NUCLEAR REACTORS, BOILERS, MACHINERY AND MECHA...</td>\n",
       "      <td>43839.43</td>\n",
       "      <td>194</td>\n",
       "      <td>CHINA P RP</td>\n",
       "      <td>13383.76</td>\n",
       "    </tr>\n",
       "    <tr>\n",
       "      <th>531</th>\n",
       "      <td>NUCLEAR REACTORS, BOILERS, MACHINERY AND MECHA...</td>\n",
       "      <td>43839.43</td>\n",
       "      <td>194</td>\n",
       "      <td>GERMANY</td>\n",
       "      <td>4549.70</td>\n",
       "    </tr>\n",
       "    <tr>\n",
       "      <th>642</th>\n",
       "      <td>NUCLEAR REACTORS, BOILERS, MACHINERY AND MECHA...</td>\n",
       "      <td>43839.43</td>\n",
       "      <td>194</td>\n",
       "      <td>U S A</td>\n",
       "      <td>3585.01</td>\n",
       "    </tr>\n",
       "    <tr>\n",
       "      <th>1229</th>\n",
       "      <td>OPTICAL, PHOTOGRAPHIC CINEMATOGRAPHIC MEASURIN...</td>\n",
       "      <td>9630.98</td>\n",
       "      <td>163</td>\n",
       "      <td>CHINA P RP</td>\n",
       "      <td>1587.69</td>\n",
       "    </tr>\n",
       "    <tr>\n",
       "      <th>1349</th>\n",
       "      <td>OPTICAL, PHOTOGRAPHIC CINEMATOGRAPHIC MEASURIN...</td>\n",
       "      <td>9630.98</td>\n",
       "      <td>163</td>\n",
       "      <td>U S A</td>\n",
       "      <td>1512.76</td>\n",
       "    </tr>\n",
       "    <tr>\n",
       "      <th>1252</th>\n",
       "      <td>OPTICAL, PHOTOGRAPHIC CINEMATOGRAPHIC MEASURIN...</td>\n",
       "      <td>9630.98</td>\n",
       "      <td>163</td>\n",
       "      <td>GERMANY</td>\n",
       "      <td>1318.15</td>\n",
       "    </tr>\n",
       "    <tr>\n",
       "      <th>678</th>\n",
       "      <td>ORGANIC CHEMICALS</td>\n",
       "      <td>22389.41</td>\n",
       "      <td>128</td>\n",
       "      <td>CHINA P RP</td>\n",
       "      <td>8596.25</td>\n",
       "    </tr>\n",
       "    <tr>\n",
       "      <th>775</th>\n",
       "      <td>ORGANIC CHEMICALS</td>\n",
       "      <td>22389.41</td>\n",
       "      <td>128</td>\n",
       "      <td>U S A</td>\n",
       "      <td>1855.25</td>\n",
       "    </tr>\n",
       "    <tr>\n",
       "      <th>757</th>\n",
       "      <td>ORGANIC CHEMICALS</td>\n",
       "      <td>22389.41</td>\n",
       "      <td>128</td>\n",
       "      <td>SINGAPORE</td>\n",
       "      <td>1807.28</td>\n",
       "    </tr>\n",
       "    <tr>\n",
       "      <th>817</th>\n",
       "      <td>PLASTIC AND ARTICLES THEREOF.</td>\n",
       "      <td>15246.55</td>\n",
       "      <td>173</td>\n",
       "      <td>CHINA P RP</td>\n",
       "      <td>2722.60</td>\n",
       "    </tr>\n",
       "    <tr>\n",
       "      <th>866</th>\n",
       "      <td>PLASTIC AND ARTICLES THEREOF.</td>\n",
       "      <td>15246.55</td>\n",
       "      <td>173</td>\n",
       "      <td>KOREA RP</td>\n",
       "      <td>1820.74</td>\n",
       "    </tr>\n",
       "    <tr>\n",
       "      <th>924</th>\n",
       "      <td>PLASTIC AND ARTICLES THEREOF.</td>\n",
       "      <td>15246.55</td>\n",
       "      <td>173</td>\n",
       "      <td>SINGAPORE</td>\n",
       "      <td>1200.93</td>\n",
       "    </tr>\n",
       "  </tbody>\n",
       "</table>\n",
       "</div>"
      ],
      "text/plain": [
       "                                              Commodity      value  n_ctries  \\\n",
       "1152  ANIMAL OR VEGETABLE FATS AND OILS AND THEIR CL...    9994.44        74   \n",
       "1195  ANIMAL OR VEGETABLE FATS AND OILS AND THEIR CL...    9994.44        74   \n",
       "1124  ANIMAL OR VEGETABLE FATS AND OILS AND THEIR CL...    9994.44        74   \n",
       "305   ELECTRICAL MACHINERY AND EQUIPMENT AND PARTS T...   52048.26       197   \n",
       "347   ELECTRICAL MACHINERY AND EQUIPMENT AND PARTS T...   52048.26       197   \n",
       "458   ELECTRICAL MACHINERY AND EQUIPMENT AND PARTS T...   52048.26       197   \n",
       "1379  INORGANIC CHEMICALS; ORGANIC OR INORGANIC COMP...    7624.43       114   \n",
       "1425  INORGANIC CHEMICALS; ORGANIC OR INORGANIC COMP...    7624.43       114   \n",
       "1363  INORGANIC CHEMICALS; ORGANIC OR INORGANIC COMP...    7624.43       114   \n",
       "1037                                     IRON AND STEEL   12582.09       166   \n",
       "987                                      IRON AND STEEL   12582.09       166   \n",
       "1032                                     IRON AND STEEL   12582.09       166   \n",
       "96    MINERAL FUELS, MINERAL OILS AND PRODUCTS OF TH...  167871.78       134   \n",
       "49    MINERAL FUELS, MINERAL OILS AND PRODUCTS OF TH...  167871.78       134   \n",
       "121   MINERAL FUELS, MINERAL OILS AND PRODUCTS OF TH...  167871.78       134   \n",
       "248   NATURAL OR CULTURED PEARLS,PRECIOUS OR SEMIPRE...   64720.19       132   \n",
       "255   NATURAL OR CULTURED PEARLS,PRECIOUS OR SEMIPRE...   64720.19       132   \n",
       "257   NATURAL OR CULTURED PEARLS,PRECIOUS OR SEMIPRE...   64720.19       132   \n",
       "500   NUCLEAR REACTORS, BOILERS, MACHINERY AND MECHA...   43839.43       194   \n",
       "531   NUCLEAR REACTORS, BOILERS, MACHINERY AND MECHA...   43839.43       194   \n",
       "642   NUCLEAR REACTORS, BOILERS, MACHINERY AND MECHA...   43839.43       194   \n",
       "1229  OPTICAL, PHOTOGRAPHIC CINEMATOGRAPHIC MEASURIN...    9630.98       163   \n",
       "1349  OPTICAL, PHOTOGRAPHIC CINEMATOGRAPHIC MEASURIN...    9630.98       163   \n",
       "1252  OPTICAL, PHOTOGRAPHIC CINEMATOGRAPHIC MEASURIN...    9630.98       163   \n",
       "678                                   ORGANIC CHEMICALS   22389.41       128   \n",
       "775                                   ORGANIC CHEMICALS   22389.41       128   \n",
       "757                                   ORGANIC CHEMICALS   22389.41       128   \n",
       "817                       PLASTIC AND ARTICLES THEREOF.   15246.55       173   \n",
       "866                       PLASTIC AND ARTICLES THEREOF.   15246.55       173   \n",
       "924                       PLASTIC AND ARTICLES THEREOF.   15246.55       173   \n",
       "\n",
       "              country  country_value  \n",
       "1152        INDONESIA        3440.97  \n",
       "1195          UKRAINE        1894.95  \n",
       "1124        ARGENTINA        1720.46  \n",
       "305        CHINA P RP       20627.56  \n",
       "347         HONG KONG        8657.63  \n",
       "458   VIETNAM SOC REP        3679.53  \n",
       "1379       CHINA P RP        1050.23  \n",
       "1425          MOROCCO         707.70  \n",
       "1363        AUSTRALIA         664.48  \n",
       "1037         KOREA RP        2684.66  \n",
       "987        CHINA P RP        1422.37  \n",
       "1032            JAPAN        1259.14  \n",
       "96         SAUDI ARAB       24508.68  \n",
       "49               IRAQ       22300.67  \n",
       "121       U ARAB EMTS       13656.84  \n",
       "248       SWITZERLAND       15476.53  \n",
       "255       U ARAB EMTS        8594.62  \n",
       "257             U S A        8230.09  \n",
       "500        CHINA P RP       13383.76  \n",
       "531           GERMANY        4549.70  \n",
       "642             U S A        3585.01  \n",
       "1229       CHINA P RP        1587.69  \n",
       "1349            U S A        1512.76  \n",
       "1252          GERMANY        1318.15  \n",
       "678        CHINA P RP        8596.25  \n",
       "775             U S A        1855.25  \n",
       "757         SINGAPORE        1807.28  \n",
       "817        CHINA P RP        2722.60  \n",
       "866          KOREA RP        1820.74  \n",
       "924         SINGAPORE        1200.93  "
      ]
     },
     "metadata": {},
     "output_type": "display_data"
    }
   ],
   "source": [
    "country_commodity = data_import.groupby(['country','Commodity']).agg({'value':'sum'}).reset_index()\n",
    "\n",
    "top10imp_3countries = pd.merge(top_imports.reset_index().rename(columns={'country':'n_ctries'}), \n",
    "                            country_commodity.rename(columns={'value':'country_value'}), \n",
    "                            how='left', on=['Commodity'])\n",
    "top10imp_3countries = top10imp_3countries.sort_values(['Commodity','country_value'], ascending=[True,False]).groupby('Commodity').head(3)\n",
    "display(top10imp_3countries.head(n=30))"
   ]
  },
  {
   "cell_type": "markdown",
   "metadata": {},
   "source": [
    "<div class=\"alert alert-success\">\n",
    "\n",
    "<b>Fiscal Deficits</b>:\n",
    "\n",
    "<ul>\n",
    "  <li> For the country commodity pairs in top imports, finding out the fiscal deficits for the year 2018</li>\n",
    "</ul>\n",
    "</div>"
   ]
  },
  {
   "cell_type": "code",
   "execution_count": 10,
   "metadata": {},
   "outputs": [
    {
     "data": {
      "text/html": [
       "<div>\n",
       "<style scoped>\n",
       "    .dataframe tbody tr th:only-of-type {\n",
       "        vertical-align: middle;\n",
       "    }\n",
       "\n",
       "    .dataframe tbody tr th {\n",
       "        vertical-align: top;\n",
       "    }\n",
       "\n",
       "    .dataframe thead th {\n",
       "        text-align: right;\n",
       "    }\n",
       "</style>\n",
       "<table border=\"1\" class=\"dataframe\">\n",
       "  <thead>\n",
       "    <tr style=\"text-align: right;\">\n",
       "      <th></th>\n",
       "      <th>Commodity</th>\n",
       "      <th>value_imp</th>\n",
       "      <th>country</th>\n",
       "      <th>country_value_imp</th>\n",
       "      <th>value_exp</th>\n",
       "      <th>country_value_exp</th>\n",
       "      <th>Fiscal Deficit</th>\n",
       "    </tr>\n",
       "  </thead>\n",
       "  <tbody>\n",
       "    <tr>\n",
       "      <th>0</th>\n",
       "      <td>ANIMAL OR VEGETABLE FATS AND OILS AND THEIR CL...</td>\n",
       "      <td>9994.44</td>\n",
       "      <td>INDONESIA</td>\n",
       "      <td>3440.97</td>\n",
       "      <td>NaN</td>\n",
       "      <td>NaN</td>\n",
       "      <td>NaN</td>\n",
       "    </tr>\n",
       "    <tr>\n",
       "      <th>1</th>\n",
       "      <td>ANIMAL OR VEGETABLE FATS AND OILS AND THEIR CL...</td>\n",
       "      <td>9994.44</td>\n",
       "      <td>UKRAINE</td>\n",
       "      <td>1894.95</td>\n",
       "      <td>NaN</td>\n",
       "      <td>NaN</td>\n",
       "      <td>NaN</td>\n",
       "    </tr>\n",
       "    <tr>\n",
       "      <th>2</th>\n",
       "      <td>ANIMAL OR VEGETABLE FATS AND OILS AND THEIR CL...</td>\n",
       "      <td>9994.44</td>\n",
       "      <td>ARGENTINA</td>\n",
       "      <td>1720.46</td>\n",
       "      <td>NaN</td>\n",
       "      <td>NaN</td>\n",
       "      <td>NaN</td>\n",
       "    </tr>\n",
       "    <tr>\n",
       "      <th>3</th>\n",
       "      <td>ELECTRICAL MACHINERY AND EQUIPMENT AND PARTS T...</td>\n",
       "      <td>52048.26</td>\n",
       "      <td>CHINA P RP</td>\n",
       "      <td>20627.56</td>\n",
       "      <td>12726.63</td>\n",
       "      <td>579.52</td>\n",
       "      <td>-20048.04</td>\n",
       "    </tr>\n",
       "    <tr>\n",
       "      <th>4</th>\n",
       "      <td>ELECTRICAL MACHINERY AND EQUIPMENT AND PARTS T...</td>\n",
       "      <td>52048.26</td>\n",
       "      <td>HONG KONG</td>\n",
       "      <td>8657.63</td>\n",
       "      <td>12726.63</td>\n",
       "      <td>284.36</td>\n",
       "      <td>-8373.27</td>\n",
       "    </tr>\n",
       "    <tr>\n",
       "      <th>5</th>\n",
       "      <td>ELECTRICAL MACHINERY AND EQUIPMENT AND PARTS T...</td>\n",
       "      <td>52048.26</td>\n",
       "      <td>VIETNAM SOC REP</td>\n",
       "      <td>3679.53</td>\n",
       "      <td>12726.63</td>\n",
       "      <td>220.30</td>\n",
       "      <td>-3459.23</td>\n",
       "    </tr>\n",
       "    <tr>\n",
       "      <th>6</th>\n",
       "      <td>INORGANIC CHEMICALS; ORGANIC OR INORGANIC COMP...</td>\n",
       "      <td>7624.43</td>\n",
       "      <td>CHINA P RP</td>\n",
       "      <td>1050.23</td>\n",
       "      <td>NaN</td>\n",
       "      <td>NaN</td>\n",
       "      <td>NaN</td>\n",
       "    </tr>\n",
       "    <tr>\n",
       "      <th>7</th>\n",
       "      <td>INORGANIC CHEMICALS; ORGANIC OR INORGANIC COMP...</td>\n",
       "      <td>7624.43</td>\n",
       "      <td>MOROCCO</td>\n",
       "      <td>707.70</td>\n",
       "      <td>NaN</td>\n",
       "      <td>NaN</td>\n",
       "      <td>NaN</td>\n",
       "    </tr>\n",
       "    <tr>\n",
       "      <th>8</th>\n",
       "      <td>INORGANIC CHEMICALS; ORGANIC OR INORGANIC COMP...</td>\n",
       "      <td>7624.43</td>\n",
       "      <td>AUSTRALIA</td>\n",
       "      <td>664.48</td>\n",
       "      <td>NaN</td>\n",
       "      <td>NaN</td>\n",
       "      <td>NaN</td>\n",
       "    </tr>\n",
       "    <tr>\n",
       "      <th>9</th>\n",
       "      <td>IRON AND STEEL</td>\n",
       "      <td>12582.09</td>\n",
       "      <td>KOREA RP</td>\n",
       "      <td>2684.66</td>\n",
       "      <td>9741.67</td>\n",
       "      <td>449.00</td>\n",
       "      <td>-2235.66</td>\n",
       "    </tr>\n",
       "    <tr>\n",
       "      <th>10</th>\n",
       "      <td>IRON AND STEEL</td>\n",
       "      <td>12582.09</td>\n",
       "      <td>CHINA P RP</td>\n",
       "      <td>1422.37</td>\n",
       "      <td>9741.67</td>\n",
       "      <td>318.90</td>\n",
       "      <td>-1103.47</td>\n",
       "    </tr>\n",
       "    <tr>\n",
       "      <th>11</th>\n",
       "      <td>IRON AND STEEL</td>\n",
       "      <td>12582.09</td>\n",
       "      <td>JAPAN</td>\n",
       "      <td>1259.14</td>\n",
       "      <td>9741.67</td>\n",
       "      <td>235.59</td>\n",
       "      <td>-1023.55</td>\n",
       "    </tr>\n",
       "    <tr>\n",
       "      <th>12</th>\n",
       "      <td>MINERAL FUELS, MINERAL OILS AND PRODUCTS OF TH...</td>\n",
       "      <td>167871.78</td>\n",
       "      <td>SAUDI ARAB</td>\n",
       "      <td>24508.68</td>\n",
       "      <td>47920.23</td>\n",
       "      <td>434.68</td>\n",
       "      <td>-24074.00</td>\n",
       "    </tr>\n",
       "    <tr>\n",
       "      <th>13</th>\n",
       "      <td>MINERAL FUELS, MINERAL OILS AND PRODUCTS OF TH...</td>\n",
       "      <td>167871.78</td>\n",
       "      <td>IRAQ</td>\n",
       "      <td>22300.67</td>\n",
       "      <td>47920.23</td>\n",
       "      <td>685.60</td>\n",
       "      <td>-21615.07</td>\n",
       "    </tr>\n",
       "    <tr>\n",
       "      <th>14</th>\n",
       "      <td>MINERAL FUELS, MINERAL OILS AND PRODUCTS OF TH...</td>\n",
       "      <td>167871.78</td>\n",
       "      <td>U ARAB EMTS</td>\n",
       "      <td>13656.84</td>\n",
       "      <td>47920.23</td>\n",
       "      <td>6367.54</td>\n",
       "      <td>-7289.30</td>\n",
       "    </tr>\n",
       "    <tr>\n",
       "      <th>15</th>\n",
       "      <td>NATURAL OR CULTURED PEARLS,PRECIOUS OR SEMIPRE...</td>\n",
       "      <td>64720.19</td>\n",
       "      <td>SWITZERLAND</td>\n",
       "      <td>15476.53</td>\n",
       "      <td>40449.05</td>\n",
       "      <td>242.07</td>\n",
       "      <td>-15234.46</td>\n",
       "    </tr>\n",
       "    <tr>\n",
       "      <th>16</th>\n",
       "      <td>NATURAL OR CULTURED PEARLS,PRECIOUS OR SEMIPRE...</td>\n",
       "      <td>64720.19</td>\n",
       "      <td>U ARAB EMTS</td>\n",
       "      <td>8594.62</td>\n",
       "      <td>40449.05</td>\n",
       "      <td>10418.15</td>\n",
       "      <td>1823.53</td>\n",
       "    </tr>\n",
       "    <tr>\n",
       "      <th>17</th>\n",
       "      <td>NATURAL OR CULTURED PEARLS,PRECIOUS OR SEMIPRE...</td>\n",
       "      <td>64720.19</td>\n",
       "      <td>U S A</td>\n",
       "      <td>8230.09</td>\n",
       "      <td>40449.05</td>\n",
       "      <td>10442.27</td>\n",
       "      <td>2212.18</td>\n",
       "    </tr>\n",
       "    <tr>\n",
       "      <th>18</th>\n",
       "      <td>NUCLEAR REACTORS, BOILERS, MACHINERY AND MECHA...</td>\n",
       "      <td>43839.43</td>\n",
       "      <td>CHINA P RP</td>\n",
       "      <td>13383.76</td>\n",
       "      <td>20963.32</td>\n",
       "      <td>830.88</td>\n",
       "      <td>-12552.88</td>\n",
       "    </tr>\n",
       "    <tr>\n",
       "      <th>19</th>\n",
       "      <td>NUCLEAR REACTORS, BOILERS, MACHINERY AND MECHA...</td>\n",
       "      <td>43839.43</td>\n",
       "      <td>GERMANY</td>\n",
       "      <td>4549.70</td>\n",
       "      <td>20963.32</td>\n",
       "      <td>1430.85</td>\n",
       "      <td>-3118.85</td>\n",
       "    </tr>\n",
       "    <tr>\n",
       "      <th>20</th>\n",
       "      <td>NUCLEAR REACTORS, BOILERS, MACHINERY AND MECHA...</td>\n",
       "      <td>43839.43</td>\n",
       "      <td>U S A</td>\n",
       "      <td>3585.01</td>\n",
       "      <td>20963.32</td>\n",
       "      <td>4026.34</td>\n",
       "      <td>441.33</td>\n",
       "    </tr>\n",
       "    <tr>\n",
       "      <th>21</th>\n",
       "      <td>OPTICAL, PHOTOGRAPHIC CINEMATOGRAPHIC MEASURIN...</td>\n",
       "      <td>9630.98</td>\n",
       "      <td>CHINA P RP</td>\n",
       "      <td>1587.69</td>\n",
       "      <td>NaN</td>\n",
       "      <td>NaN</td>\n",
       "      <td>NaN</td>\n",
       "    </tr>\n",
       "    <tr>\n",
       "      <th>22</th>\n",
       "      <td>OPTICAL, PHOTOGRAPHIC CINEMATOGRAPHIC MEASURIN...</td>\n",
       "      <td>9630.98</td>\n",
       "      <td>U S A</td>\n",
       "      <td>1512.76</td>\n",
       "      <td>NaN</td>\n",
       "      <td>NaN</td>\n",
       "      <td>NaN</td>\n",
       "    </tr>\n",
       "    <tr>\n",
       "      <th>23</th>\n",
       "      <td>OPTICAL, PHOTOGRAPHIC CINEMATOGRAPHIC MEASURIN...</td>\n",
       "      <td>9630.98</td>\n",
       "      <td>GERMANY</td>\n",
       "      <td>1318.15</td>\n",
       "      <td>NaN</td>\n",
       "      <td>NaN</td>\n",
       "      <td>NaN</td>\n",
       "    </tr>\n",
       "    <tr>\n",
       "      <th>24</th>\n",
       "      <td>ORGANIC CHEMICALS</td>\n",
       "      <td>22389.41</td>\n",
       "      <td>CHINA P RP</td>\n",
       "      <td>8596.25</td>\n",
       "      <td>18238.53</td>\n",
       "      <td>3249.21</td>\n",
       "      <td>-5347.04</td>\n",
       "    </tr>\n",
       "    <tr>\n",
       "      <th>25</th>\n",
       "      <td>ORGANIC CHEMICALS</td>\n",
       "      <td>22389.41</td>\n",
       "      <td>U S A</td>\n",
       "      <td>1855.25</td>\n",
       "      <td>18238.53</td>\n",
       "      <td>1843.41</td>\n",
       "      <td>-11.84</td>\n",
       "    </tr>\n",
       "    <tr>\n",
       "      <th>26</th>\n",
       "      <td>ORGANIC CHEMICALS</td>\n",
       "      <td>22389.41</td>\n",
       "      <td>SINGAPORE</td>\n",
       "      <td>1807.28</td>\n",
       "      <td>18238.53</td>\n",
       "      <td>356.09</td>\n",
       "      <td>-1451.19</td>\n",
       "    </tr>\n",
       "    <tr>\n",
       "      <th>27</th>\n",
       "      <td>PLASTIC AND ARTICLES THEREOF.</td>\n",
       "      <td>15246.55</td>\n",
       "      <td>CHINA P RP</td>\n",
       "      <td>2722.60</td>\n",
       "      <td>NaN</td>\n",
       "      <td>NaN</td>\n",
       "      <td>NaN</td>\n",
       "    </tr>\n",
       "    <tr>\n",
       "      <th>28</th>\n",
       "      <td>PLASTIC AND ARTICLES THEREOF.</td>\n",
       "      <td>15246.55</td>\n",
       "      <td>KOREA RP</td>\n",
       "      <td>1820.74</td>\n",
       "      <td>NaN</td>\n",
       "      <td>NaN</td>\n",
       "      <td>NaN</td>\n",
       "    </tr>\n",
       "    <tr>\n",
       "      <th>29</th>\n",
       "      <td>PLASTIC AND ARTICLES THEREOF.</td>\n",
       "      <td>15246.55</td>\n",
       "      <td>SINGAPORE</td>\n",
       "      <td>1200.93</td>\n",
       "      <td>NaN</td>\n",
       "      <td>NaN</td>\n",
       "      <td>NaN</td>\n",
       "    </tr>\n",
       "  </tbody>\n",
       "</table>\n",
       "</div>"
      ],
      "text/plain": [
       "                                            Commodity  value_imp  \\\n",
       "0   ANIMAL OR VEGETABLE FATS AND OILS AND THEIR CL...    9994.44   \n",
       "1   ANIMAL OR VEGETABLE FATS AND OILS AND THEIR CL...    9994.44   \n",
       "2   ANIMAL OR VEGETABLE FATS AND OILS AND THEIR CL...    9994.44   \n",
       "3   ELECTRICAL MACHINERY AND EQUIPMENT AND PARTS T...   52048.26   \n",
       "4   ELECTRICAL MACHINERY AND EQUIPMENT AND PARTS T...   52048.26   \n",
       "5   ELECTRICAL MACHINERY AND EQUIPMENT AND PARTS T...   52048.26   \n",
       "6   INORGANIC CHEMICALS; ORGANIC OR INORGANIC COMP...    7624.43   \n",
       "7   INORGANIC CHEMICALS; ORGANIC OR INORGANIC COMP...    7624.43   \n",
       "8   INORGANIC CHEMICALS; ORGANIC OR INORGANIC COMP...    7624.43   \n",
       "9                                      IRON AND STEEL   12582.09   \n",
       "10                                     IRON AND STEEL   12582.09   \n",
       "11                                     IRON AND STEEL   12582.09   \n",
       "12  MINERAL FUELS, MINERAL OILS AND PRODUCTS OF TH...  167871.78   \n",
       "13  MINERAL FUELS, MINERAL OILS AND PRODUCTS OF TH...  167871.78   \n",
       "14  MINERAL FUELS, MINERAL OILS AND PRODUCTS OF TH...  167871.78   \n",
       "15  NATURAL OR CULTURED PEARLS,PRECIOUS OR SEMIPRE...   64720.19   \n",
       "16  NATURAL OR CULTURED PEARLS,PRECIOUS OR SEMIPRE...   64720.19   \n",
       "17  NATURAL OR CULTURED PEARLS,PRECIOUS OR SEMIPRE...   64720.19   \n",
       "18  NUCLEAR REACTORS, BOILERS, MACHINERY AND MECHA...   43839.43   \n",
       "19  NUCLEAR REACTORS, BOILERS, MACHINERY AND MECHA...   43839.43   \n",
       "20  NUCLEAR REACTORS, BOILERS, MACHINERY AND MECHA...   43839.43   \n",
       "21  OPTICAL, PHOTOGRAPHIC CINEMATOGRAPHIC MEASURIN...    9630.98   \n",
       "22  OPTICAL, PHOTOGRAPHIC CINEMATOGRAPHIC MEASURIN...    9630.98   \n",
       "23  OPTICAL, PHOTOGRAPHIC CINEMATOGRAPHIC MEASURIN...    9630.98   \n",
       "24                                  ORGANIC CHEMICALS   22389.41   \n",
       "25                                  ORGANIC CHEMICALS   22389.41   \n",
       "26                                  ORGANIC CHEMICALS   22389.41   \n",
       "27                      PLASTIC AND ARTICLES THEREOF.   15246.55   \n",
       "28                      PLASTIC AND ARTICLES THEREOF.   15246.55   \n",
       "29                      PLASTIC AND ARTICLES THEREOF.   15246.55   \n",
       "\n",
       "            country  country_value_imp  value_exp  country_value_exp  \\\n",
       "0         INDONESIA            3440.97        NaN                NaN   \n",
       "1           UKRAINE            1894.95        NaN                NaN   \n",
       "2         ARGENTINA            1720.46        NaN                NaN   \n",
       "3        CHINA P RP           20627.56   12726.63             579.52   \n",
       "4         HONG KONG            8657.63   12726.63             284.36   \n",
       "5   VIETNAM SOC REP            3679.53   12726.63             220.30   \n",
       "6        CHINA P RP            1050.23        NaN                NaN   \n",
       "7           MOROCCO             707.70        NaN                NaN   \n",
       "8         AUSTRALIA             664.48        NaN                NaN   \n",
       "9          KOREA RP            2684.66    9741.67             449.00   \n",
       "10       CHINA P RP            1422.37    9741.67             318.90   \n",
       "11            JAPAN            1259.14    9741.67             235.59   \n",
       "12       SAUDI ARAB           24508.68   47920.23             434.68   \n",
       "13             IRAQ           22300.67   47920.23             685.60   \n",
       "14      U ARAB EMTS           13656.84   47920.23            6367.54   \n",
       "15      SWITZERLAND           15476.53   40449.05             242.07   \n",
       "16      U ARAB EMTS            8594.62   40449.05           10418.15   \n",
       "17            U S A            8230.09   40449.05           10442.27   \n",
       "18       CHINA P RP           13383.76   20963.32             830.88   \n",
       "19          GERMANY            4549.70   20963.32            1430.85   \n",
       "20            U S A            3585.01   20963.32            4026.34   \n",
       "21       CHINA P RP            1587.69        NaN                NaN   \n",
       "22            U S A            1512.76        NaN                NaN   \n",
       "23          GERMANY            1318.15        NaN                NaN   \n",
       "24       CHINA P RP            8596.25   18238.53            3249.21   \n",
       "25            U S A            1855.25   18238.53            1843.41   \n",
       "26        SINGAPORE            1807.28   18238.53             356.09   \n",
       "27       CHINA P RP            2722.60        NaN                NaN   \n",
       "28         KOREA RP            1820.74        NaN                NaN   \n",
       "29        SINGAPORE            1200.93        NaN                NaN   \n",
       "\n",
       "    Fiscal Deficit  \n",
       "0              NaN  \n",
       "1              NaN  \n",
       "2              NaN  \n",
       "3        -20048.04  \n",
       "4         -8373.27  \n",
       "5         -3459.23  \n",
       "6              NaN  \n",
       "7              NaN  \n",
       "8              NaN  \n",
       "9         -2235.66  \n",
       "10        -1103.47  \n",
       "11        -1023.55  \n",
       "12       -24074.00  \n",
       "13       -21615.07  \n",
       "14        -7289.30  \n",
       "15       -15234.46  \n",
       "16         1823.53  \n",
       "17         2212.18  \n",
       "18       -12552.88  \n",
       "19        -3118.85  \n",
       "20          441.33  \n",
       "21             NaN  \n",
       "22             NaN  \n",
       "23             NaN  \n",
       "24        -5347.04  \n",
       "25          -11.84  \n",
       "26        -1451.19  \n",
       "27             NaN  \n",
       "28             NaN  \n",
       "29             NaN  "
      ]
     },
     "metadata": {},
     "output_type": "display_data"
    }
   ],
   "source": [
    "country_commodity_export = data_export.groupby(['country','Commodity']).agg({'value':'sum'}).reset_index()\n",
    "\n",
    "top_exports_wcs = pd.merge(top_exports.reset_index().rename(columns={'country':'n_ctries'}), \n",
    "                            country_commodity_export.rename(columns={'value':'country_value'}), \n",
    "                            how='left', on=['Commodity'])\n",
    "\n",
    "country_commodity_import = data_import.groupby(['country','Commodity']).agg({'value':'sum'}).reset_index()\n",
    "top_imports_wcs = pd.merge(top_imports.reset_index().rename(columns={'country':'n_ctries'}), \n",
    "                            country_commodity_import.rename(columns={'value':'country_value'}), \n",
    "                            how='left', on=['Commodity'])\n",
    "\n",
    "top_imports_w3cs = top_imports_wcs.sort_values(['Commodity','country_value'], ascending=[True,False]).groupby('Commodity').head(3)\n",
    "\n",
    "top_import_deficit = pd.merge(top_imports_w3cs.reset_index(),\n",
    "                             top_exports_wcs.reset_index(),\n",
    "                             how='left',on=['Commodity','country'],\n",
    "                             suffixes=('_imp', '_exp'))\n",
    "\n",
    "top_import_deficit = top_import_deficit.drop(columns=['index_imp', 'index_exp', 'n_ctries_imp', 'n_ctries_exp'])\n",
    "top_import_deficit[\"Fiscal Deficit\"] = top_import_deficit['country_value_exp'] - top_import_deficit['country_value_imp']\n",
    "display(top_import_deficit)"
   ]
  },
  {
   "cell_type": "code",
   "execution_count": 11,
   "metadata": {},
   "outputs": [
    {
     "name": "stdout",
     "output_type": "stream",
     "text": [
      "18\n"
     ]
    },
    {
     "data": {
      "application/vnd.plotly.v1+json": {
       "config": {
        "plotlyServerURL": "https://plot.ly"
       },
       "data": [
        {
         "customdata": [
          [
           "CHINA P RP",
           "ELECTRICAL MACHINERY AND EQUIPMENT AND PARTS THEREOF; SOUND RECORDERS AND REPRODUCERS, TELEVISION IMAGE AND SOUND RECORDERS AND REPRODUCERS,AND PARTS.",
           -20048.04
          ],
          [
           "HONG KONG",
           "ELECTRICAL MACHINERY AND EQUIPMENT AND PARTS THEREOF; SOUND RECORDERS AND REPRODUCERS, TELEVISION IMAGE AND SOUND RECORDERS AND REPRODUCERS,AND PARTS.",
           -8373.269999999999
          ],
          [
           "VIETNAM SOC REP",
           "ELECTRICAL MACHINERY AND EQUIPMENT AND PARTS THEREOF; SOUND RECORDERS AND REPRODUCERS, TELEVISION IMAGE AND SOUND RECORDERS AND REPRODUCERS,AND PARTS.",
           -3459.23
          ],
          [
           "KOREA RP",
           "IRON AND STEEL",
           -2235.66
          ],
          [
           "CHINA P RP",
           "IRON AND STEEL",
           -1103.4699999999998
          ],
          [
           "JAPAN",
           "IRON AND STEEL",
           -1023.5500000000001
          ],
          [
           "SAUDI ARAB",
           "MINERAL FUELS, MINERAL OILS AND PRODUCTS OF THEIR DISTILLATION; BITUMINOUS SUBSTANCES; MINERAL WAXES.",
           -24074
          ],
          [
           "IRAQ",
           "MINERAL FUELS, MINERAL OILS AND PRODUCTS OF THEIR DISTILLATION; BITUMINOUS SUBSTANCES; MINERAL WAXES.",
           -21615.07
          ],
          [
           "U ARAB EMTS",
           "MINERAL FUELS, MINERAL OILS AND PRODUCTS OF THEIR DISTILLATION; BITUMINOUS SUBSTANCES; MINERAL WAXES.",
           -7289.3
          ],
          [
           "SWITZERLAND",
           "NATURAL OR CULTURED PEARLS,PRECIOUS OR SEMIPRECIOUS STONES,PRE.METALS,CLAD WITH PRE.METAL AND ARTCLS THEREOF;IMIT.JEWLRY;COIN.",
           -15234.460000000001
          ],
          [
           "U ARAB EMTS",
           "NATURAL OR CULTURED PEARLS,PRECIOUS OR SEMIPRECIOUS STONES,PRE.METALS,CLAD WITH PRE.METAL AND ARTCLS THEREOF;IMIT.JEWLRY;COIN.",
           1823.5299999999988
          ],
          [
           "U S A",
           "NATURAL OR CULTURED PEARLS,PRECIOUS OR SEMIPRECIOUS STONES,PRE.METALS,CLAD WITH PRE.METAL AND ARTCLS THEREOF;IMIT.JEWLRY;COIN.",
           2212.1800000000003
          ],
          [
           "CHINA P RP",
           "NUCLEAR REACTORS, BOILERS, MACHINERY AND MECHANICAL APPLIANCES; PARTS THEREOF.",
           -12552.880000000001
          ],
          [
           "GERMANY",
           "NUCLEAR REACTORS, BOILERS, MACHINERY AND MECHANICAL APPLIANCES; PARTS THEREOF.",
           -3118.85
          ],
          [
           "U S A",
           "NUCLEAR REACTORS, BOILERS, MACHINERY AND MECHANICAL APPLIANCES; PARTS THEREOF.",
           441.3299999999999
          ],
          [
           "CHINA P RP",
           "ORGANIC CHEMICALS",
           -5347.04
          ],
          [
           "U S A",
           "ORGANIC CHEMICALS",
           -11.839999999999918
          ],
          [
           "SINGAPORE",
           "ORGANIC CHEMICALS",
           -1451.19
          ]
         ],
         "hovertemplate": "value_imp=%{x}<br>value_exp=%{y}<br>country=%{customdata[0]}<br>Commodity=%{customdata[1]}<br>Fiscal Deficit=%{customdata[2]}<extra></extra>",
         "legendgroup": "",
         "marker": {
          "color": "#636efa",
          "symbol": "circle"
         },
         "mode": "markers",
         "name": "",
         "showlegend": false,
         "type": "scatter",
         "x": [
          52048.259999999995,
          52048.259999999995,
          52048.259999999995,
          12582.09,
          12582.09,
          12582.09,
          167871.77999999994,
          167871.77999999994,
          167871.77999999994,
          64720.19,
          64720.19,
          64720.19,
          43839.43,
          43839.43,
          43839.43,
          22389.409999999993,
          22389.409999999993,
          22389.409999999993
         ],
         "xaxis": "x",
         "y": [
          12726.630000000001,
          12726.630000000001,
          12726.630000000001,
          9741.669999999998,
          9741.669999999998,
          9741.669999999998,
          47920.23000000002,
          47920.23000000002,
          47920.23000000002,
          40449.049999999996,
          40449.049999999996,
          40449.049999999996,
          20963.320000000003,
          20963.320000000003,
          20963.320000000003,
          18238.53,
          18238.53,
          18238.53
         ],
         "yaxis": "y"
        }
       ],
       "layout": {
        "legend": {
         "tracegroupgap": 0
        },
        "margin": {
         "t": 60
        },
        "template": {
         "data": {
          "bar": [
           {
            "error_x": {
             "color": "#2a3f5f"
            },
            "error_y": {
             "color": "#2a3f5f"
            },
            "marker": {
             "line": {
              "color": "#E5ECF6",
              "width": 0.5
             }
            },
            "type": "bar"
           }
          ],
          "barpolar": [
           {
            "marker": {
             "line": {
              "color": "#E5ECF6",
              "width": 0.5
             }
            },
            "type": "barpolar"
           }
          ],
          "carpet": [
           {
            "aaxis": {
             "endlinecolor": "#2a3f5f",
             "gridcolor": "white",
             "linecolor": "white",
             "minorgridcolor": "white",
             "startlinecolor": "#2a3f5f"
            },
            "baxis": {
             "endlinecolor": "#2a3f5f",
             "gridcolor": "white",
             "linecolor": "white",
             "minorgridcolor": "white",
             "startlinecolor": "#2a3f5f"
            },
            "type": "carpet"
           }
          ],
          "choropleth": [
           {
            "colorbar": {
             "outlinewidth": 0,
             "ticks": ""
            },
            "type": "choropleth"
           }
          ],
          "contour": [
           {
            "colorbar": {
             "outlinewidth": 0,
             "ticks": ""
            },
            "colorscale": [
             [
              0,
              "#0d0887"
             ],
             [
              0.1111111111111111,
              "#46039f"
             ],
             [
              0.2222222222222222,
              "#7201a8"
             ],
             [
              0.3333333333333333,
              "#9c179e"
             ],
             [
              0.4444444444444444,
              "#bd3786"
             ],
             [
              0.5555555555555556,
              "#d8576b"
             ],
             [
              0.6666666666666666,
              "#ed7953"
             ],
             [
              0.7777777777777778,
              "#fb9f3a"
             ],
             [
              0.8888888888888888,
              "#fdca26"
             ],
             [
              1,
              "#f0f921"
             ]
            ],
            "type": "contour"
           }
          ],
          "contourcarpet": [
           {
            "colorbar": {
             "outlinewidth": 0,
             "ticks": ""
            },
            "type": "contourcarpet"
           }
          ],
          "heatmap": [
           {
            "colorbar": {
             "outlinewidth": 0,
             "ticks": ""
            },
            "colorscale": [
             [
              0,
              "#0d0887"
             ],
             [
              0.1111111111111111,
              "#46039f"
             ],
             [
              0.2222222222222222,
              "#7201a8"
             ],
             [
              0.3333333333333333,
              "#9c179e"
             ],
             [
              0.4444444444444444,
              "#bd3786"
             ],
             [
              0.5555555555555556,
              "#d8576b"
             ],
             [
              0.6666666666666666,
              "#ed7953"
             ],
             [
              0.7777777777777778,
              "#fb9f3a"
             ],
             [
              0.8888888888888888,
              "#fdca26"
             ],
             [
              1,
              "#f0f921"
             ]
            ],
            "type": "heatmap"
           }
          ],
          "heatmapgl": [
           {
            "colorbar": {
             "outlinewidth": 0,
             "ticks": ""
            },
            "colorscale": [
             [
              0,
              "#0d0887"
             ],
             [
              0.1111111111111111,
              "#46039f"
             ],
             [
              0.2222222222222222,
              "#7201a8"
             ],
             [
              0.3333333333333333,
              "#9c179e"
             ],
             [
              0.4444444444444444,
              "#bd3786"
             ],
             [
              0.5555555555555556,
              "#d8576b"
             ],
             [
              0.6666666666666666,
              "#ed7953"
             ],
             [
              0.7777777777777778,
              "#fb9f3a"
             ],
             [
              0.8888888888888888,
              "#fdca26"
             ],
             [
              1,
              "#f0f921"
             ]
            ],
            "type": "heatmapgl"
           }
          ],
          "histogram": [
           {
            "marker": {
             "colorbar": {
              "outlinewidth": 0,
              "ticks": ""
             }
            },
            "type": "histogram"
           }
          ],
          "histogram2d": [
           {
            "colorbar": {
             "outlinewidth": 0,
             "ticks": ""
            },
            "colorscale": [
             [
              0,
              "#0d0887"
             ],
             [
              0.1111111111111111,
              "#46039f"
             ],
             [
              0.2222222222222222,
              "#7201a8"
             ],
             [
              0.3333333333333333,
              "#9c179e"
             ],
             [
              0.4444444444444444,
              "#bd3786"
             ],
             [
              0.5555555555555556,
              "#d8576b"
             ],
             [
              0.6666666666666666,
              "#ed7953"
             ],
             [
              0.7777777777777778,
              "#fb9f3a"
             ],
             [
              0.8888888888888888,
              "#fdca26"
             ],
             [
              1,
              "#f0f921"
             ]
            ],
            "type": "histogram2d"
           }
          ],
          "histogram2dcontour": [
           {
            "colorbar": {
             "outlinewidth": 0,
             "ticks": ""
            },
            "colorscale": [
             [
              0,
              "#0d0887"
             ],
             [
              0.1111111111111111,
              "#46039f"
             ],
             [
              0.2222222222222222,
              "#7201a8"
             ],
             [
              0.3333333333333333,
              "#9c179e"
             ],
             [
              0.4444444444444444,
              "#bd3786"
             ],
             [
              0.5555555555555556,
              "#d8576b"
             ],
             [
              0.6666666666666666,
              "#ed7953"
             ],
             [
              0.7777777777777778,
              "#fb9f3a"
             ],
             [
              0.8888888888888888,
              "#fdca26"
             ],
             [
              1,
              "#f0f921"
             ]
            ],
            "type": "histogram2dcontour"
           }
          ],
          "mesh3d": [
           {
            "colorbar": {
             "outlinewidth": 0,
             "ticks": ""
            },
            "type": "mesh3d"
           }
          ],
          "parcoords": [
           {
            "line": {
             "colorbar": {
              "outlinewidth": 0,
              "ticks": ""
             }
            },
            "type": "parcoords"
           }
          ],
          "pie": [
           {
            "automargin": true,
            "type": "pie"
           }
          ],
          "scatter": [
           {
            "marker": {
             "colorbar": {
              "outlinewidth": 0,
              "ticks": ""
             }
            },
            "type": "scatter"
           }
          ],
          "scatter3d": [
           {
            "line": {
             "colorbar": {
              "outlinewidth": 0,
              "ticks": ""
             }
            },
            "marker": {
             "colorbar": {
              "outlinewidth": 0,
              "ticks": ""
             }
            },
            "type": "scatter3d"
           }
          ],
          "scattercarpet": [
           {
            "marker": {
             "colorbar": {
              "outlinewidth": 0,
              "ticks": ""
             }
            },
            "type": "scattercarpet"
           }
          ],
          "scattergeo": [
           {
            "marker": {
             "colorbar": {
              "outlinewidth": 0,
              "ticks": ""
             }
            },
            "type": "scattergeo"
           }
          ],
          "scattergl": [
           {
            "marker": {
             "colorbar": {
              "outlinewidth": 0,
              "ticks": ""
             }
            },
            "type": "scattergl"
           }
          ],
          "scattermapbox": [
           {
            "marker": {
             "colorbar": {
              "outlinewidth": 0,
              "ticks": ""
             }
            },
            "type": "scattermapbox"
           }
          ],
          "scatterpolar": [
           {
            "marker": {
             "colorbar": {
              "outlinewidth": 0,
              "ticks": ""
             }
            },
            "type": "scatterpolar"
           }
          ],
          "scatterpolargl": [
           {
            "marker": {
             "colorbar": {
              "outlinewidth": 0,
              "ticks": ""
             }
            },
            "type": "scatterpolargl"
           }
          ],
          "scatterternary": [
           {
            "marker": {
             "colorbar": {
              "outlinewidth": 0,
              "ticks": ""
             }
            },
            "type": "scatterternary"
           }
          ],
          "surface": [
           {
            "colorbar": {
             "outlinewidth": 0,
             "ticks": ""
            },
            "colorscale": [
             [
              0,
              "#0d0887"
             ],
             [
              0.1111111111111111,
              "#46039f"
             ],
             [
              0.2222222222222222,
              "#7201a8"
             ],
             [
              0.3333333333333333,
              "#9c179e"
             ],
             [
              0.4444444444444444,
              "#bd3786"
             ],
             [
              0.5555555555555556,
              "#d8576b"
             ],
             [
              0.6666666666666666,
              "#ed7953"
             ],
             [
              0.7777777777777778,
              "#fb9f3a"
             ],
             [
              0.8888888888888888,
              "#fdca26"
             ],
             [
              1,
              "#f0f921"
             ]
            ],
            "type": "surface"
           }
          ],
          "table": [
           {
            "cells": {
             "fill": {
              "color": "#EBF0F8"
             },
             "line": {
              "color": "white"
             }
            },
            "header": {
             "fill": {
              "color": "#C8D4E3"
             },
             "line": {
              "color": "white"
             }
            },
            "type": "table"
           }
          ]
         },
         "layout": {
          "annotationdefaults": {
           "arrowcolor": "#2a3f5f",
           "arrowhead": 0,
           "arrowwidth": 1
          },
          "coloraxis": {
           "colorbar": {
            "outlinewidth": 0,
            "ticks": ""
           }
          },
          "colorscale": {
           "diverging": [
            [
             0,
             "#8e0152"
            ],
            [
             0.1,
             "#c51b7d"
            ],
            [
             0.2,
             "#de77ae"
            ],
            [
             0.3,
             "#f1b6da"
            ],
            [
             0.4,
             "#fde0ef"
            ],
            [
             0.5,
             "#f7f7f7"
            ],
            [
             0.6,
             "#e6f5d0"
            ],
            [
             0.7,
             "#b8e186"
            ],
            [
             0.8,
             "#7fbc41"
            ],
            [
             0.9,
             "#4d9221"
            ],
            [
             1,
             "#276419"
            ]
           ],
           "sequential": [
            [
             0,
             "#0d0887"
            ],
            [
             0.1111111111111111,
             "#46039f"
            ],
            [
             0.2222222222222222,
             "#7201a8"
            ],
            [
             0.3333333333333333,
             "#9c179e"
            ],
            [
             0.4444444444444444,
             "#bd3786"
            ],
            [
             0.5555555555555556,
             "#d8576b"
            ],
            [
             0.6666666666666666,
             "#ed7953"
            ],
            [
             0.7777777777777778,
             "#fb9f3a"
            ],
            [
             0.8888888888888888,
             "#fdca26"
            ],
            [
             1,
             "#f0f921"
            ]
           ],
           "sequentialminus": [
            [
             0,
             "#0d0887"
            ],
            [
             0.1111111111111111,
             "#46039f"
            ],
            [
             0.2222222222222222,
             "#7201a8"
            ],
            [
             0.3333333333333333,
             "#9c179e"
            ],
            [
             0.4444444444444444,
             "#bd3786"
            ],
            [
             0.5555555555555556,
             "#d8576b"
            ],
            [
             0.6666666666666666,
             "#ed7953"
            ],
            [
             0.7777777777777778,
             "#fb9f3a"
            ],
            [
             0.8888888888888888,
             "#fdca26"
            ],
            [
             1,
             "#f0f921"
            ]
           ]
          },
          "colorway": [
           "#636efa",
           "#EF553B",
           "#00cc96",
           "#ab63fa",
           "#FFA15A",
           "#19d3f3",
           "#FF6692",
           "#B6E880",
           "#FF97FF",
           "#FECB52"
          ],
          "font": {
           "color": "#2a3f5f"
          },
          "geo": {
           "bgcolor": "white",
           "lakecolor": "white",
           "landcolor": "#E5ECF6",
           "showlakes": true,
           "showland": true,
           "subunitcolor": "white"
          },
          "hoverlabel": {
           "align": "left"
          },
          "hovermode": "closest",
          "mapbox": {
           "style": "light"
          },
          "paper_bgcolor": "white",
          "plot_bgcolor": "#E5ECF6",
          "polar": {
           "angularaxis": {
            "gridcolor": "white",
            "linecolor": "white",
            "ticks": ""
           },
           "bgcolor": "#E5ECF6",
           "radialaxis": {
            "gridcolor": "white",
            "linecolor": "white",
            "ticks": ""
           }
          },
          "scene": {
           "xaxis": {
            "backgroundcolor": "#E5ECF6",
            "gridcolor": "white",
            "gridwidth": 2,
            "linecolor": "white",
            "showbackground": true,
            "ticks": "",
            "zerolinecolor": "white"
           },
           "yaxis": {
            "backgroundcolor": "#E5ECF6",
            "gridcolor": "white",
            "gridwidth": 2,
            "linecolor": "white",
            "showbackground": true,
            "ticks": "",
            "zerolinecolor": "white"
           },
           "zaxis": {
            "backgroundcolor": "#E5ECF6",
            "gridcolor": "white",
            "gridwidth": 2,
            "linecolor": "white",
            "showbackground": true,
            "ticks": "",
            "zerolinecolor": "white"
           }
          },
          "shapedefaults": {
           "line": {
            "color": "#2a3f5f"
           }
          },
          "ternary": {
           "aaxis": {
            "gridcolor": "white",
            "linecolor": "white",
            "ticks": ""
           },
           "baxis": {
            "gridcolor": "white",
            "linecolor": "white",
            "ticks": ""
           },
           "bgcolor": "#E5ECF6",
           "caxis": {
            "gridcolor": "white",
            "linecolor": "white",
            "ticks": ""
           }
          },
          "title": {
           "x": 0.05
          },
          "xaxis": {
           "automargin": true,
           "gridcolor": "white",
           "linecolor": "white",
           "ticks": "",
           "title": {
            "standoff": 15
           },
           "zerolinecolor": "white",
           "zerolinewidth": 2
          },
          "yaxis": {
           "automargin": true,
           "gridcolor": "white",
           "linecolor": "white",
           "ticks": "",
           "title": {
            "standoff": 15
           },
           "zerolinecolor": "white",
           "zerolinewidth": 2
          }
         }
        },
        "xaxis": {
         "anchor": "y",
         "domain": [
          0,
          1
         ],
         "title": {
          "text": "value_imp"
         }
        },
        "yaxis": {
         "anchor": "x",
         "domain": [
          0,
          1
         ],
         "title": {
          "text": "value_exp"
         }
        }
       }
      },
      "text/html": [
       "<div>\n",
       "        \n",
       "        \n",
       "            <div id=\"57982395-5f9e-4732-a9ec-3a87383553f8\" class=\"plotly-graph-div\" style=\"height:525px; width:100%;\"></div>\n",
       "            <script type=\"text/javascript\">\n",
       "                require([\"plotly\"], function(Plotly) {\n",
       "                    window.PLOTLYENV=window.PLOTLYENV || {};\n",
       "                    \n",
       "                if (document.getElementById(\"57982395-5f9e-4732-a9ec-3a87383553f8\")) {\n",
       "                    Plotly.newPlot(\n",
       "                        '57982395-5f9e-4732-a9ec-3a87383553f8',\n",
       "                        [{\"customdata\": [[\"CHINA P RP\", \"ELECTRICAL MACHINERY AND EQUIPMENT AND PARTS THEREOF; SOUND RECORDERS AND REPRODUCERS, TELEVISION IMAGE AND SOUND RECORDERS AND REPRODUCERS,AND PARTS.\", -20048.04], [\"HONG KONG\", \"ELECTRICAL MACHINERY AND EQUIPMENT AND PARTS THEREOF; SOUND RECORDERS AND REPRODUCERS, TELEVISION IMAGE AND SOUND RECORDERS AND REPRODUCERS,AND PARTS.\", -8373.269999999999], [\"VIETNAM SOC REP\", \"ELECTRICAL MACHINERY AND EQUIPMENT AND PARTS THEREOF; SOUND RECORDERS AND REPRODUCERS, TELEVISION IMAGE AND SOUND RECORDERS AND REPRODUCERS,AND PARTS.\", -3459.23], [\"KOREA RP\", \"IRON AND STEEL\", -2235.66], [\"CHINA P RP\", \"IRON AND STEEL\", -1103.4699999999998], [\"JAPAN\", \"IRON AND STEEL\", -1023.5500000000001], [\"SAUDI ARAB\", \"MINERAL FUELS, MINERAL OILS AND PRODUCTS OF THEIR DISTILLATION; BITUMINOUS SUBSTANCES; MINERAL WAXES.\", -24074.0], [\"IRAQ\", \"MINERAL FUELS, MINERAL OILS AND PRODUCTS OF THEIR DISTILLATION; BITUMINOUS SUBSTANCES; MINERAL WAXES.\", -21615.07], [\"U ARAB EMTS\", \"MINERAL FUELS, MINERAL OILS AND PRODUCTS OF THEIR DISTILLATION; BITUMINOUS SUBSTANCES; MINERAL WAXES.\", -7289.3], [\"SWITZERLAND\", \"NATURAL OR CULTURED PEARLS,PRECIOUS OR SEMIPRECIOUS STONES,PRE.METALS,CLAD WITH PRE.METAL AND ARTCLS THEREOF;IMIT.JEWLRY;COIN.\", -15234.460000000001], [\"U ARAB EMTS\", \"NATURAL OR CULTURED PEARLS,PRECIOUS OR SEMIPRECIOUS STONES,PRE.METALS,CLAD WITH PRE.METAL AND ARTCLS THEREOF;IMIT.JEWLRY;COIN.\", 1823.5299999999988], [\"U S A\", \"NATURAL OR CULTURED PEARLS,PRECIOUS OR SEMIPRECIOUS STONES,PRE.METALS,CLAD WITH PRE.METAL AND ARTCLS THEREOF;IMIT.JEWLRY;COIN.\", 2212.1800000000003], [\"CHINA P RP\", \"NUCLEAR REACTORS, BOILERS, MACHINERY AND MECHANICAL APPLIANCES; PARTS THEREOF.\", -12552.880000000001], [\"GERMANY\", \"NUCLEAR REACTORS, BOILERS, MACHINERY AND MECHANICAL APPLIANCES; PARTS THEREOF.\", -3118.85], [\"U S A\", \"NUCLEAR REACTORS, BOILERS, MACHINERY AND MECHANICAL APPLIANCES; PARTS THEREOF.\", 441.3299999999999], [\"CHINA P RP\", \"ORGANIC CHEMICALS\", -5347.04], [\"U S A\", \"ORGANIC CHEMICALS\", -11.839999999999918], [\"SINGAPORE\", \"ORGANIC CHEMICALS\", -1451.19]], \"hovertemplate\": \"value_imp=%{x}<br>value_exp=%{y}<br>country=%{customdata[0]}<br>Commodity=%{customdata[1]}<br>Fiscal Deficit=%{customdata[2]}<extra></extra>\", \"legendgroup\": \"\", \"marker\": {\"color\": \"#636efa\", \"symbol\": \"circle\"}, \"mode\": \"markers\", \"name\": \"\", \"showlegend\": false, \"type\": \"scatter\", \"x\": [52048.259999999995, 52048.259999999995, 52048.259999999995, 12582.09, 12582.09, 12582.09, 167871.77999999994, 167871.77999999994, 167871.77999999994, 64720.19, 64720.19, 64720.19, 43839.43, 43839.43, 43839.43, 22389.409999999993, 22389.409999999993, 22389.409999999993], \"xaxis\": \"x\", \"y\": [12726.630000000001, 12726.630000000001, 12726.630000000001, 9741.669999999998, 9741.669999999998, 9741.669999999998, 47920.23000000002, 47920.23000000002, 47920.23000000002, 40449.049999999996, 40449.049999999996, 40449.049999999996, 20963.320000000003, 20963.320000000003, 20963.320000000003, 18238.53, 18238.53, 18238.53], \"yaxis\": \"y\"}],\n",
       "                        {\"legend\": {\"tracegroupgap\": 0}, \"margin\": {\"t\": 60}, \"template\": {\"data\": {\"bar\": [{\"error_x\": {\"color\": \"#2a3f5f\"}, \"error_y\": {\"color\": \"#2a3f5f\"}, \"marker\": {\"line\": {\"color\": \"#E5ECF6\", \"width\": 0.5}}, \"type\": \"bar\"}], \"barpolar\": [{\"marker\": {\"line\": {\"color\": \"#E5ECF6\", \"width\": 0.5}}, \"type\": \"barpolar\"}], \"carpet\": [{\"aaxis\": {\"endlinecolor\": \"#2a3f5f\", \"gridcolor\": \"white\", \"linecolor\": \"white\", \"minorgridcolor\": \"white\", \"startlinecolor\": \"#2a3f5f\"}, \"baxis\": {\"endlinecolor\": \"#2a3f5f\", \"gridcolor\": \"white\", \"linecolor\": \"white\", \"minorgridcolor\": \"white\", \"startlinecolor\": \"#2a3f5f\"}, \"type\": \"carpet\"}], \"choropleth\": [{\"colorbar\": {\"outlinewidth\": 0, \"ticks\": \"\"}, \"type\": \"choropleth\"}], \"contour\": [{\"colorbar\": {\"outlinewidth\": 0, \"ticks\": \"\"}, \"colorscale\": [[0.0, \"#0d0887\"], [0.1111111111111111, \"#46039f\"], [0.2222222222222222, \"#7201a8\"], [0.3333333333333333, \"#9c179e\"], [0.4444444444444444, \"#bd3786\"], [0.5555555555555556, \"#d8576b\"], [0.6666666666666666, \"#ed7953\"], [0.7777777777777778, \"#fb9f3a\"], [0.8888888888888888, \"#fdca26\"], [1.0, \"#f0f921\"]], \"type\": \"contour\"}], \"contourcarpet\": [{\"colorbar\": {\"outlinewidth\": 0, \"ticks\": \"\"}, \"type\": \"contourcarpet\"}], \"heatmap\": [{\"colorbar\": {\"outlinewidth\": 0, \"ticks\": \"\"}, \"colorscale\": [[0.0, \"#0d0887\"], [0.1111111111111111, \"#46039f\"], [0.2222222222222222, \"#7201a8\"], [0.3333333333333333, \"#9c179e\"], [0.4444444444444444, \"#bd3786\"], [0.5555555555555556, \"#d8576b\"], [0.6666666666666666, \"#ed7953\"], [0.7777777777777778, \"#fb9f3a\"], [0.8888888888888888, \"#fdca26\"], [1.0, \"#f0f921\"]], \"type\": \"heatmap\"}], \"heatmapgl\": [{\"colorbar\": {\"outlinewidth\": 0, \"ticks\": \"\"}, \"colorscale\": [[0.0, \"#0d0887\"], [0.1111111111111111, \"#46039f\"], [0.2222222222222222, \"#7201a8\"], [0.3333333333333333, \"#9c179e\"], [0.4444444444444444, \"#bd3786\"], [0.5555555555555556, \"#d8576b\"], [0.6666666666666666, \"#ed7953\"], [0.7777777777777778, \"#fb9f3a\"], [0.8888888888888888, \"#fdca26\"], [1.0, \"#f0f921\"]], \"type\": \"heatmapgl\"}], \"histogram\": [{\"marker\": {\"colorbar\": {\"outlinewidth\": 0, \"ticks\": \"\"}}, \"type\": \"histogram\"}], \"histogram2d\": [{\"colorbar\": {\"outlinewidth\": 0, \"ticks\": \"\"}, \"colorscale\": [[0.0, \"#0d0887\"], [0.1111111111111111, \"#46039f\"], [0.2222222222222222, \"#7201a8\"], [0.3333333333333333, \"#9c179e\"], [0.4444444444444444, \"#bd3786\"], [0.5555555555555556, \"#d8576b\"], [0.6666666666666666, \"#ed7953\"], [0.7777777777777778, \"#fb9f3a\"], [0.8888888888888888, \"#fdca26\"], [1.0, \"#f0f921\"]], \"type\": \"histogram2d\"}], \"histogram2dcontour\": [{\"colorbar\": {\"outlinewidth\": 0, \"ticks\": \"\"}, \"colorscale\": [[0.0, \"#0d0887\"], [0.1111111111111111, \"#46039f\"], [0.2222222222222222, \"#7201a8\"], [0.3333333333333333, \"#9c179e\"], [0.4444444444444444, \"#bd3786\"], [0.5555555555555556, \"#d8576b\"], [0.6666666666666666, \"#ed7953\"], [0.7777777777777778, \"#fb9f3a\"], [0.8888888888888888, \"#fdca26\"], [1.0, \"#f0f921\"]], \"type\": \"histogram2dcontour\"}], \"mesh3d\": [{\"colorbar\": {\"outlinewidth\": 0, \"ticks\": \"\"}, \"type\": \"mesh3d\"}], \"parcoords\": [{\"line\": {\"colorbar\": {\"outlinewidth\": 0, \"ticks\": \"\"}}, \"type\": \"parcoords\"}], \"pie\": [{\"automargin\": true, \"type\": \"pie\"}], \"scatter\": [{\"marker\": {\"colorbar\": {\"outlinewidth\": 0, \"ticks\": \"\"}}, \"type\": \"scatter\"}], \"scatter3d\": [{\"line\": {\"colorbar\": {\"outlinewidth\": 0, \"ticks\": \"\"}}, \"marker\": {\"colorbar\": {\"outlinewidth\": 0, \"ticks\": \"\"}}, \"type\": \"scatter3d\"}], \"scattercarpet\": [{\"marker\": {\"colorbar\": {\"outlinewidth\": 0, \"ticks\": \"\"}}, \"type\": \"scattercarpet\"}], \"scattergeo\": [{\"marker\": {\"colorbar\": {\"outlinewidth\": 0, \"ticks\": \"\"}}, \"type\": \"scattergeo\"}], \"scattergl\": [{\"marker\": {\"colorbar\": {\"outlinewidth\": 0, \"ticks\": \"\"}}, \"type\": \"scattergl\"}], \"scattermapbox\": [{\"marker\": {\"colorbar\": {\"outlinewidth\": 0, \"ticks\": \"\"}}, \"type\": \"scattermapbox\"}], \"scatterpolar\": [{\"marker\": {\"colorbar\": {\"outlinewidth\": 0, \"ticks\": \"\"}}, \"type\": \"scatterpolar\"}], \"scatterpolargl\": [{\"marker\": {\"colorbar\": {\"outlinewidth\": 0, \"ticks\": \"\"}}, \"type\": \"scatterpolargl\"}], \"scatterternary\": [{\"marker\": {\"colorbar\": {\"outlinewidth\": 0, \"ticks\": \"\"}}, \"type\": \"scatterternary\"}], \"surface\": [{\"colorbar\": {\"outlinewidth\": 0, \"ticks\": \"\"}, \"colorscale\": [[0.0, \"#0d0887\"], [0.1111111111111111, \"#46039f\"], [0.2222222222222222, \"#7201a8\"], [0.3333333333333333, \"#9c179e\"], [0.4444444444444444, \"#bd3786\"], [0.5555555555555556, \"#d8576b\"], [0.6666666666666666, \"#ed7953\"], [0.7777777777777778, \"#fb9f3a\"], [0.8888888888888888, \"#fdca26\"], [1.0, \"#f0f921\"]], \"type\": \"surface\"}], \"table\": [{\"cells\": {\"fill\": {\"color\": \"#EBF0F8\"}, \"line\": {\"color\": \"white\"}}, \"header\": {\"fill\": {\"color\": \"#C8D4E3\"}, \"line\": {\"color\": \"white\"}}, \"type\": \"table\"}]}, \"layout\": {\"annotationdefaults\": {\"arrowcolor\": \"#2a3f5f\", \"arrowhead\": 0, \"arrowwidth\": 1}, \"coloraxis\": {\"colorbar\": {\"outlinewidth\": 0, \"ticks\": \"\"}}, \"colorscale\": {\"diverging\": [[0, \"#8e0152\"], [0.1, \"#c51b7d\"], [0.2, \"#de77ae\"], [0.3, \"#f1b6da\"], [0.4, \"#fde0ef\"], [0.5, \"#f7f7f7\"], [0.6, \"#e6f5d0\"], [0.7, \"#b8e186\"], [0.8, \"#7fbc41\"], [0.9, \"#4d9221\"], [1, \"#276419\"]], \"sequential\": [[0.0, \"#0d0887\"], [0.1111111111111111, \"#46039f\"], [0.2222222222222222, \"#7201a8\"], [0.3333333333333333, \"#9c179e\"], [0.4444444444444444, \"#bd3786\"], [0.5555555555555556, \"#d8576b\"], [0.6666666666666666, \"#ed7953\"], [0.7777777777777778, \"#fb9f3a\"], [0.8888888888888888, \"#fdca26\"], [1.0, \"#f0f921\"]], \"sequentialminus\": [[0.0, \"#0d0887\"], [0.1111111111111111, \"#46039f\"], [0.2222222222222222, \"#7201a8\"], [0.3333333333333333, \"#9c179e\"], [0.4444444444444444, \"#bd3786\"], [0.5555555555555556, \"#d8576b\"], [0.6666666666666666, \"#ed7953\"], [0.7777777777777778, \"#fb9f3a\"], [0.8888888888888888, \"#fdca26\"], [1.0, \"#f0f921\"]]}, \"colorway\": [\"#636efa\", \"#EF553B\", \"#00cc96\", \"#ab63fa\", \"#FFA15A\", \"#19d3f3\", \"#FF6692\", \"#B6E880\", \"#FF97FF\", \"#FECB52\"], \"font\": {\"color\": \"#2a3f5f\"}, \"geo\": {\"bgcolor\": \"white\", \"lakecolor\": \"white\", \"landcolor\": \"#E5ECF6\", \"showlakes\": true, \"showland\": true, \"subunitcolor\": \"white\"}, \"hoverlabel\": {\"align\": \"left\"}, \"hovermode\": \"closest\", \"mapbox\": {\"style\": \"light\"}, \"paper_bgcolor\": \"white\", \"plot_bgcolor\": \"#E5ECF6\", \"polar\": {\"angularaxis\": {\"gridcolor\": \"white\", \"linecolor\": \"white\", \"ticks\": \"\"}, \"bgcolor\": \"#E5ECF6\", \"radialaxis\": {\"gridcolor\": \"white\", \"linecolor\": \"white\", \"ticks\": \"\"}}, \"scene\": {\"xaxis\": {\"backgroundcolor\": \"#E5ECF6\", \"gridcolor\": \"white\", \"gridwidth\": 2, \"linecolor\": \"white\", \"showbackground\": true, \"ticks\": \"\", \"zerolinecolor\": \"white\"}, \"yaxis\": {\"backgroundcolor\": \"#E5ECF6\", \"gridcolor\": \"white\", \"gridwidth\": 2, \"linecolor\": \"white\", \"showbackground\": true, \"ticks\": \"\", \"zerolinecolor\": \"white\"}, \"zaxis\": {\"backgroundcolor\": \"#E5ECF6\", \"gridcolor\": \"white\", \"gridwidth\": 2, \"linecolor\": \"white\", \"showbackground\": true, \"ticks\": \"\", \"zerolinecolor\": \"white\"}}, \"shapedefaults\": {\"line\": {\"color\": \"#2a3f5f\"}}, \"ternary\": {\"aaxis\": {\"gridcolor\": \"white\", \"linecolor\": \"white\", \"ticks\": \"\"}, \"baxis\": {\"gridcolor\": \"white\", \"linecolor\": \"white\", \"ticks\": \"\"}, \"bgcolor\": \"#E5ECF6\", \"caxis\": {\"gridcolor\": \"white\", \"linecolor\": \"white\", \"ticks\": \"\"}}, \"title\": {\"x\": 0.05}, \"xaxis\": {\"automargin\": true, \"gridcolor\": \"white\", \"linecolor\": \"white\", \"ticks\": \"\", \"title\": {\"standoff\": 15}, \"zerolinecolor\": \"white\", \"zerolinewidth\": 2}, \"yaxis\": {\"automargin\": true, \"gridcolor\": \"white\", \"linecolor\": \"white\", \"ticks\": \"\", \"title\": {\"standoff\": 15}, \"zerolinecolor\": \"white\", \"zerolinewidth\": 2}}}, \"xaxis\": {\"anchor\": \"y\", \"domain\": [0.0, 1.0], \"title\": {\"text\": \"value_imp\"}}, \"yaxis\": {\"anchor\": \"x\", \"domain\": [0.0, 1.0], \"title\": {\"text\": \"value_exp\"}}},\n",
       "                        {\"responsive\": true}\n",
       "                    ).then(function(){\n",
       "                            \n",
       "var gd = document.getElementById('57982395-5f9e-4732-a9ec-3a87383553f8');\n",
       "var x = new MutationObserver(function (mutations, observer) {{\n",
       "        var display = window.getComputedStyle(gd).display;\n",
       "        if (!display || display === 'none') {{\n",
       "            console.log([gd, 'removed!']);\n",
       "            Plotly.purge(gd);\n",
       "            observer.disconnect();\n",
       "        }}\n",
       "}});\n",
       "\n",
       "// Listen for the removal of the full notebook cells\n",
       "var notebookContainer = gd.closest('#notebook-container');\n",
       "if (notebookContainer) {{\n",
       "    x.observe(notebookContainer, {childList: true});\n",
       "}}\n",
       "\n",
       "// Listen for the clearing of the current output cell\n",
       "var outputEl = gd.closest('.output');\n",
       "if (outputEl) {{\n",
       "    x.observe(outputEl, {childList: true});\n",
       "}}\n",
       "\n",
       "                        })\n",
       "                };\n",
       "                });\n",
       "            </script>\n",
       "        </div>"
      ]
     },
     "metadata": {},
     "output_type": "display_data"
    }
   ],
   "source": [
    "df_plot = top_import_deficit.dropna()\n",
    "print(len(df_plot))\n",
    "fig = px.scatter(df_plot, x=\"value_imp\", y='value_exp', hover_data=[\"country\", \"Commodity\", \"Fiscal Deficit\"])\n",
    "fig.show()"
   ]
  }
 ],
 "metadata": {
  "kernelspec": {
   "display_name": "Python 3",
   "language": "python",
   "name": "python3"
  },
  "language_info": {
   "codemirror_mode": {
    "name": "ipython",
    "version": 3
   },
   "file_extension": ".py",
   "mimetype": "text/x-python",
   "name": "python",
   "nbconvert_exporter": "python",
   "pygments_lexer": "ipython3",
   "version": "3.7.7"
  }
 },
 "nbformat": 4,
 "nbformat_minor": 2
}
